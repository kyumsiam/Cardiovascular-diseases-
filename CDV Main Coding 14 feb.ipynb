{
 "cells": [
  {
   "cell_type": "code",
   "execution_count": 1,
   "id": "aeb01d96",
   "metadata": {},
   "outputs": [],
   "source": [
    "import pandas as pd\n",
    "import numpy as np\n",
    "import matplotlib.pyplot as plt \n",
    "import seaborn as sns \n",
    "from sklearn.model_selection import train_test_split\n",
    "from sklearn import metrics\n",
    "import statsmodels.api as sm\n",
    "from sklearn.metrics import roc_auc_score\n",
    "from sklearn.tree import DecisionTreeClassifier\n",
    "from sklearn.preprocessing import StandardScaler\n",
    "from sklearn.metrics import confusion_matrix\n",
    "from sklearn.metrics import f1_score\n",
    "from sklearn.metrics import accuracy_score\n",
    "from sklearn.metrics import classification_report\n",
    "from sklearn.preprocessing import MinMaxScaler\n",
    "from sklearn import tree\n",
    "from sklearn.linear_model import Lasso\n",
    "from sklearn.model_selection import GridSearchCV, KFold"
   ]
  },
  {
   "cell_type": "code",
   "execution_count": 2,
   "id": "7e9b55e1",
   "metadata": {},
   "outputs": [],
   "source": [
    "df=pd.read_excel(\"C:/Users/USER/OneDrive/Desktop/Mamun Sir Project/With missing Values.xlsx\")"
   ]
  },
  {
   "cell_type": "code",
   "execution_count": 3,
   "id": "d27b01d5",
   "metadata": {},
   "outputs": [
    {
     "data": {
      "text/html": [
       "<div>\n",
       "<style scoped>\n",
       "    .dataframe tbody tr th:only-of-type {\n",
       "        vertical-align: middle;\n",
       "    }\n",
       "\n",
       "    .dataframe tbody tr th {\n",
       "        vertical-align: top;\n",
       "    }\n",
       "\n",
       "    .dataframe thead th {\n",
       "        text-align: right;\n",
       "    }\n",
       "</style>\n",
       "<table border=\"1\" class=\"dataframe\">\n",
       "  <thead>\n",
       "    <tr style=\"text-align: right;\">\n",
       "      <th></th>\n",
       "      <th>Name</th>\n",
       "      <th>HTN</th>\n",
       "      <th>DM</th>\n",
       "      <th>SMK</th>\n",
       "      <th>DL</th>\n",
       "      <th>FH</th>\n",
       "      <th>AMI</th>\n",
       "      <th>Sex</th>\n",
       "      <th>NSTEMI</th>\n",
       "      <th>SA</th>\n",
       "      <th>UA</th>\n",
       "      <th>HOCABG</th>\n",
       "      <th>HOPCI</th>\n",
       "      <th>Age_Group</th>\n",
       "      <th>LDL1</th>\n",
       "      <th>HDL1</th>\n",
       "      <th>TG1</th>\n",
       "      <th>EF1</th>\n",
       "      <th>Indication1</th>\n",
       "      <th>TC1</th>\n",
       "    </tr>\n",
       "  </thead>\n",
       "  <tbody>\n",
       "    <tr>\n",
       "      <th>0</th>\n",
       "      <td>Dr. khorshed Jahan M</td>\n",
       "      <td>1</td>\n",
       "      <td>1</td>\n",
       "      <td>0</td>\n",
       "      <td>0</td>\n",
       "      <td>0</td>\n",
       "      <td>0</td>\n",
       "      <td>1</td>\n",
       "      <td>0</td>\n",
       "      <td>1</td>\n",
       "      <td>0</td>\n",
       "      <td>1</td>\n",
       "      <td>1</td>\n",
       "      <td>2</td>\n",
       "      <td>2.0</td>\n",
       "      <td>2.0</td>\n",
       "      <td>2.0</td>\n",
       "      <td>2.0</td>\n",
       "      <td>5</td>\n",
       "      <td>1.0</td>\n",
       "    </tr>\n",
       "    <tr>\n",
       "      <th>1</th>\n",
       "      <td>Zahir Uddin Shapon</td>\n",
       "      <td>1</td>\n",
       "      <td>0</td>\n",
       "      <td>0</td>\n",
       "      <td>0</td>\n",
       "      <td>0</td>\n",
       "      <td>0</td>\n",
       "      <td>2</td>\n",
       "      <td>1</td>\n",
       "      <td>0</td>\n",
       "      <td>0</td>\n",
       "      <td>0</td>\n",
       "      <td>1</td>\n",
       "      <td>2</td>\n",
       "      <td>1.0</td>\n",
       "      <td>2.0</td>\n",
       "      <td>1.0</td>\n",
       "      <td>2.0</td>\n",
       "      <td>5</td>\n",
       "      <td>1.0</td>\n",
       "    </tr>\n",
       "    <tr>\n",
       "      <th>2</th>\n",
       "      <td>S M Saiful Islam</td>\n",
       "      <td>1</td>\n",
       "      <td>1</td>\n",
       "      <td>1</td>\n",
       "      <td>0</td>\n",
       "      <td>1</td>\n",
       "      <td>0</td>\n",
       "      <td>2</td>\n",
       "      <td>1</td>\n",
       "      <td>0</td>\n",
       "      <td>0</td>\n",
       "      <td>0</td>\n",
       "      <td>0</td>\n",
       "      <td>2</td>\n",
       "      <td>2.0</td>\n",
       "      <td>2.0</td>\n",
       "      <td>2.0</td>\n",
       "      <td>1.0</td>\n",
       "      <td>3</td>\n",
       "      <td>1.0</td>\n",
       "    </tr>\n",
       "    <tr>\n",
       "      <th>3</th>\n",
       "      <td>Rowshan Ara Begum</td>\n",
       "      <td>0</td>\n",
       "      <td>1</td>\n",
       "      <td>0</td>\n",
       "      <td>0</td>\n",
       "      <td>0</td>\n",
       "      <td>1</td>\n",
       "      <td>1</td>\n",
       "      <td>0</td>\n",
       "      <td>0</td>\n",
       "      <td>0</td>\n",
       "      <td>0</td>\n",
       "      <td>0</td>\n",
       "      <td>3</td>\n",
       "      <td>1.0</td>\n",
       "      <td>2.0</td>\n",
       "      <td>2.0</td>\n",
       "      <td>2.0</td>\n",
       "      <td>1</td>\n",
       "      <td>1.0</td>\n",
       "    </tr>\n",
       "    <tr>\n",
       "      <th>4</th>\n",
       "      <td>Monsur Ahmed</td>\n",
       "      <td>0</td>\n",
       "      <td>0</td>\n",
       "      <td>1</td>\n",
       "      <td>0</td>\n",
       "      <td>0</td>\n",
       "      <td>0</td>\n",
       "      <td>2</td>\n",
       "      <td>0</td>\n",
       "      <td>1</td>\n",
       "      <td>0</td>\n",
       "      <td>0</td>\n",
       "      <td>0</td>\n",
       "      <td>2</td>\n",
       "      <td>1.0</td>\n",
       "      <td>2.0</td>\n",
       "      <td>2.0</td>\n",
       "      <td>1.0</td>\n",
       "      <td>2</td>\n",
       "      <td>1.0</td>\n",
       "    </tr>\n",
       "    <tr>\n",
       "      <th>...</th>\n",
       "      <td>...</td>\n",
       "      <td>...</td>\n",
       "      <td>...</td>\n",
       "      <td>...</td>\n",
       "      <td>...</td>\n",
       "      <td>...</td>\n",
       "      <td>...</td>\n",
       "      <td>...</td>\n",
       "      <td>...</td>\n",
       "      <td>...</td>\n",
       "      <td>...</td>\n",
       "      <td>...</td>\n",
       "      <td>...</td>\n",
       "      <td>...</td>\n",
       "      <td>...</td>\n",
       "      <td>...</td>\n",
       "      <td>...</td>\n",
       "      <td>...</td>\n",
       "      <td>...</td>\n",
       "      <td>...</td>\n",
       "    </tr>\n",
       "    <tr>\n",
       "      <th>1496</th>\n",
       "      <td>AB Kuddus</td>\n",
       "      <td>1</td>\n",
       "      <td>1</td>\n",
       "      <td>1</td>\n",
       "      <td>0</td>\n",
       "      <td>0</td>\n",
       "      <td>0</td>\n",
       "      <td>2</td>\n",
       "      <td>0</td>\n",
       "      <td>0</td>\n",
       "      <td>1</td>\n",
       "      <td>0</td>\n",
       "      <td>0</td>\n",
       "      <td>2</td>\n",
       "      <td>2.0</td>\n",
       "      <td>1.0</td>\n",
       "      <td>2.0</td>\n",
       "      <td>1.0</td>\n",
       "      <td>4</td>\n",
       "      <td>3.0</td>\n",
       "    </tr>\n",
       "    <tr>\n",
       "      <th>1497</th>\n",
       "      <td>Sanjoy Kumar Ghosh</td>\n",
       "      <td>0</td>\n",
       "      <td>0</td>\n",
       "      <td>1</td>\n",
       "      <td>0</td>\n",
       "      <td>0</td>\n",
       "      <td>0</td>\n",
       "      <td>2</td>\n",
       "      <td>0</td>\n",
       "      <td>1</td>\n",
       "      <td>0</td>\n",
       "      <td>0</td>\n",
       "      <td>0</td>\n",
       "      <td>1</td>\n",
       "      <td>2.0</td>\n",
       "      <td>2.0</td>\n",
       "      <td>2.0</td>\n",
       "      <td>1.0</td>\n",
       "      <td>2</td>\n",
       "      <td>2.0</td>\n",
       "    </tr>\n",
       "    <tr>\n",
       "      <th>1498</th>\n",
       "      <td>Harun Ur Rashid</td>\n",
       "      <td>0</td>\n",
       "      <td>0</td>\n",
       "      <td>1</td>\n",
       "      <td>0</td>\n",
       "      <td>0</td>\n",
       "      <td>0</td>\n",
       "      <td>2</td>\n",
       "      <td>0</td>\n",
       "      <td>0</td>\n",
       "      <td>1</td>\n",
       "      <td>0</td>\n",
       "      <td>0</td>\n",
       "      <td>2</td>\n",
       "      <td>1.0</td>\n",
       "      <td>2.0</td>\n",
       "      <td>1.0</td>\n",
       "      <td>1.0</td>\n",
       "      <td>4</td>\n",
       "      <td>1.0</td>\n",
       "    </tr>\n",
       "    <tr>\n",
       "      <th>1499</th>\n",
       "      <td>Taposh Day</td>\n",
       "      <td>1</td>\n",
       "      <td>0</td>\n",
       "      <td>0</td>\n",
       "      <td>0</td>\n",
       "      <td>1</td>\n",
       "      <td>0</td>\n",
       "      <td>2</td>\n",
       "      <td>1</td>\n",
       "      <td>0</td>\n",
       "      <td>0</td>\n",
       "      <td>0</td>\n",
       "      <td>0</td>\n",
       "      <td>1</td>\n",
       "      <td>1.0</td>\n",
       "      <td>2.0</td>\n",
       "      <td>2.0</td>\n",
       "      <td>1.0</td>\n",
       "      <td>3</td>\n",
       "      <td>1.0</td>\n",
       "    </tr>\n",
       "    <tr>\n",
       "      <th>1500</th>\n",
       "      <td>Monowar Hossain</td>\n",
       "      <td>1</td>\n",
       "      <td>1</td>\n",
       "      <td>1</td>\n",
       "      <td>0</td>\n",
       "      <td>1</td>\n",
       "      <td>1</td>\n",
       "      <td>2</td>\n",
       "      <td>0</td>\n",
       "      <td>0</td>\n",
       "      <td>0</td>\n",
       "      <td>0</td>\n",
       "      <td>0</td>\n",
       "      <td>1</td>\n",
       "      <td>2.0</td>\n",
       "      <td>2.0</td>\n",
       "      <td>1.0</td>\n",
       "      <td>1.0</td>\n",
       "      <td>1</td>\n",
       "      <td>1.0</td>\n",
       "    </tr>\n",
       "  </tbody>\n",
       "</table>\n",
       "<p>1501 rows × 20 columns</p>\n",
       "</div>"
      ],
      "text/plain": [
       "                      Name  HTN  DM  SMK  DL  FH  AMI  Sex  NSTEMI  SA  UA  \\\n",
       "0     Dr. khorshed Jahan M    1   1    0   0   0    0    1       0   1   0   \n",
       "1       Zahir Uddin Shapon    1   0    0   0   0    0    2       1   0   0   \n",
       "2         S M Saiful Islam    1   1    1   0   1    0    2       1   0   0   \n",
       "3        Rowshan Ara Begum    0   1    0   0   0    1    1       0   0   0   \n",
       "4             Monsur Ahmed    0   0    1   0   0    0    2       0   1   0   \n",
       "...                    ...  ...  ..  ...  ..  ..  ...  ...     ...  ..  ..   \n",
       "1496             AB Kuddus    1   1    1   0   0    0    2       0   0   1   \n",
       "1497    Sanjoy Kumar Ghosh    0   0    1   0   0    0    2       0   1   0   \n",
       "1498       Harun Ur Rashid    0   0    1   0   0    0    2       0   0   1   \n",
       "1499            Taposh Day    1   0    0   0   1    0    2       1   0   0   \n",
       "1500       Monowar Hossain    1   1    1   0   1    1    2       0   0   0   \n",
       "\n",
       "      HOCABG  HOPCI  Age_Group  LDL1  HDL1  TG1  EF1  Indication1  TC1  \n",
       "0          1      1          2   2.0   2.0  2.0  2.0            5  1.0  \n",
       "1          0      1          2   1.0   2.0  1.0  2.0            5  1.0  \n",
       "2          0      0          2   2.0   2.0  2.0  1.0            3  1.0  \n",
       "3          0      0          3   1.0   2.0  2.0  2.0            1  1.0  \n",
       "4          0      0          2   1.0   2.0  2.0  1.0            2  1.0  \n",
       "...      ...    ...        ...   ...   ...  ...  ...          ...  ...  \n",
       "1496       0      0          2   2.0   1.0  2.0  1.0            4  3.0  \n",
       "1497       0      0          1   2.0   2.0  2.0  1.0            2  2.0  \n",
       "1498       0      0          2   1.0   2.0  1.0  1.0            4  1.0  \n",
       "1499       0      0          1   1.0   2.0  2.0  1.0            3  1.0  \n",
       "1500       0      0          1   2.0   2.0  1.0  1.0            1  1.0  \n",
       "\n",
       "[1501 rows x 20 columns]"
      ]
     },
     "execution_count": 3,
     "metadata": {},
     "output_type": "execute_result"
    }
   ],
   "source": [
    "df "
   ]
  },
  {
   "cell_type": "code",
   "execution_count": 4,
   "id": "b719d0a1",
   "metadata": {},
   "outputs": [],
   "source": [
    "df.drop('Name',axis=1,inplace=True)"
   ]
  },
  {
   "cell_type": "raw",
   "id": "a326a5f1",
   "metadata": {},
   "source": [
    "# The line is comment not Use here \n",
    "\n",
    "#Convert the Object Variable to Int \n",
    "columns_to_convert = ['LDL1', 'HDL1', 'TG1', 'EF1','TC1']\n",
    "df[columns_to_convert] = df[columns_to_convert].apply(pd.to_numeric, errors='coerce', downcast='integer')"
   ]
  },
  {
   "cell_type": "raw",
   "id": "d8d2490d",
   "metadata": {},
   "source": [
    "# The line is comment not Use here \n",
    "\n",
    "df['HDL1']=pd.to_numeric(df['HDL1'], errors='coerce').convert_dtypes() \n",
    "df['LDL1']=pd.to_numeric(df['LDL1'], errors='coerce').convert_dtypes() \n",
    "df['TG1']=pd.to_numeric(df['TG1'], errors='coerce').convert_dtypes() \n",
    "df['EF1']=pd.to_numeric(df['EF1'], errors='coerce').convert_dtypes()\n",
    "df['TC1']=pd.to_numeric(df['TC1'], errors='coerce').convert_dtypes() "
   ]
  },
  {
   "cell_type": "markdown",
   "id": "abdc0990",
   "metadata": {},
   "source": [
    "# Data COllection "
   ]
  },
  {
   "cell_type": "markdown",
   "id": "969b569f",
   "metadata": {},
   "source": [
    "# b) Data Understanding"
   ]
  },
  {
   "cell_type": "code",
   "execution_count": 5,
   "id": "6538f20e",
   "metadata": {},
   "outputs": [
    {
     "name": "stdout",
     "output_type": "stream",
     "text": [
      "<class 'pandas.core.frame.DataFrame'>\n",
      "RangeIndex: 1501 entries, 0 to 1500\n",
      "Data columns (total 19 columns):\n",
      " #   Column       Non-Null Count  Dtype  \n",
      "---  ------       --------------  -----  \n",
      " 0   HTN          1501 non-null   int64  \n",
      " 1   DM           1501 non-null   int64  \n",
      " 2   SMK          1501 non-null   int64  \n",
      " 3   DL           1501 non-null   int64  \n",
      " 4   FH           1501 non-null   int64  \n",
      " 5   AMI          1501 non-null   int64  \n",
      " 6   Sex          1501 non-null   int64  \n",
      " 7   NSTEMI       1501 non-null   int64  \n",
      " 8   SA           1501 non-null   int64  \n",
      " 9   UA           1501 non-null   int64  \n",
      " 10  HOCABG       1501 non-null   int64  \n",
      " 11  HOPCI        1501 non-null   int64  \n",
      " 12  Age_Group    1501 non-null   int64  \n",
      " 13  LDL1         1434 non-null   float64\n",
      " 14  HDL1         1434 non-null   float64\n",
      " 15  TG1          1434 non-null   float64\n",
      " 16  EF1          1405 non-null   float64\n",
      " 17  Indication1  1501 non-null   int64  \n",
      " 18  TC1          1434 non-null   float64\n",
      "dtypes: float64(5), int64(14)\n",
      "memory usage: 222.9 KB\n"
     ]
    }
   ],
   "source": [
    "#i)\n",
    "df.info()"
   ]
  },
  {
   "cell_type": "code",
   "execution_count": 6,
   "id": "faf9ab8c",
   "metadata": {},
   "outputs": [],
   "source": [
    "df[['LDL1', 'HDL1', 'TG1', 'EF1', 'TC1']] = df[['LDL1', 'HDL1', 'TG1', 'EF1', 'TC1']].apply(pd.to_numeric, errors='coerce').fillna(0).astype('int64')"
   ]
  },
  {
   "cell_type": "code",
   "execution_count": 7,
   "id": "d6304b6a",
   "metadata": {},
   "outputs": [
    {
     "name": "stdout",
     "output_type": "stream",
     "text": [
      "<class 'pandas.core.frame.DataFrame'>\n",
      "RangeIndex: 1501 entries, 0 to 1500\n",
      "Data columns (total 19 columns):\n",
      " #   Column       Non-Null Count  Dtype\n",
      "---  ------       --------------  -----\n",
      " 0   HTN          1501 non-null   int64\n",
      " 1   DM           1501 non-null   int64\n",
      " 2   SMK          1501 non-null   int64\n",
      " 3   DL           1501 non-null   int64\n",
      " 4   FH           1501 non-null   int64\n",
      " 5   AMI          1501 non-null   int64\n",
      " 6   Sex          1501 non-null   int64\n",
      " 7   NSTEMI       1501 non-null   int64\n",
      " 8   SA           1501 non-null   int64\n",
      " 9   UA           1501 non-null   int64\n",
      " 10  HOCABG       1501 non-null   int64\n",
      " 11  HOPCI        1501 non-null   int64\n",
      " 12  Age_Group    1501 non-null   int64\n",
      " 13  LDL1         1501 non-null   int64\n",
      " 14  HDL1         1501 non-null   int64\n",
      " 15  TG1          1501 non-null   int64\n",
      " 16  EF1          1501 non-null   int64\n",
      " 17  Indication1  1501 non-null   int64\n",
      " 18  TC1          1501 non-null   int64\n",
      "dtypes: int64(19)\n",
      "memory usage: 222.9 KB\n"
     ]
    }
   ],
   "source": [
    "df.info()"
   ]
  },
  {
   "cell_type": "code",
   "execution_count": 8,
   "id": "81e1629d",
   "metadata": {},
   "outputs": [
    {
     "data": {
      "text/html": [
       "<div>\n",
       "<style scoped>\n",
       "    .dataframe tbody tr th:only-of-type {\n",
       "        vertical-align: middle;\n",
       "    }\n",
       "\n",
       "    .dataframe tbody tr th {\n",
       "        vertical-align: top;\n",
       "    }\n",
       "\n",
       "    .dataframe thead th {\n",
       "        text-align: right;\n",
       "    }\n",
       "</style>\n",
       "<table border=\"1\" class=\"dataframe\">\n",
       "  <thead>\n",
       "    <tr style=\"text-align: right;\">\n",
       "      <th></th>\n",
       "      <th>HTN</th>\n",
       "      <th>DM</th>\n",
       "      <th>SMK</th>\n",
       "      <th>DL</th>\n",
       "      <th>FH</th>\n",
       "      <th>AMI</th>\n",
       "      <th>Sex</th>\n",
       "      <th>NSTEMI</th>\n",
       "      <th>SA</th>\n",
       "      <th>UA</th>\n",
       "      <th>HOCABG</th>\n",
       "      <th>HOPCI</th>\n",
       "      <th>Age_Group</th>\n",
       "      <th>LDL1</th>\n",
       "      <th>HDL1</th>\n",
       "      <th>TG1</th>\n",
       "      <th>EF1</th>\n",
       "      <th>Indication1</th>\n",
       "      <th>TC1</th>\n",
       "    </tr>\n",
       "  </thead>\n",
       "  <tbody>\n",
       "    <tr>\n",
       "      <th>count</th>\n",
       "      <td>1501.000000</td>\n",
       "      <td>1501.000000</td>\n",
       "      <td>1501.000000</td>\n",
       "      <td>1501.000000</td>\n",
       "      <td>1501.000000</td>\n",
       "      <td>1501.000000</td>\n",
       "      <td>1501.000000</td>\n",
       "      <td>1501.000000</td>\n",
       "      <td>1501.000000</td>\n",
       "      <td>1501.000000</td>\n",
       "      <td>1501.000000</td>\n",
       "      <td>1501.000000</td>\n",
       "      <td>1501.000000</td>\n",
       "      <td>1501.000000</td>\n",
       "      <td>1501.000000</td>\n",
       "      <td>1501.000000</td>\n",
       "      <td>1501.000000</td>\n",
       "      <td>1501.000000</td>\n",
       "      <td>1501.000000</td>\n",
       "    </tr>\n",
       "    <tr>\n",
       "      <th>mean</th>\n",
       "      <td>0.669554</td>\n",
       "      <td>0.475017</td>\n",
       "      <td>0.404397</td>\n",
       "      <td>0.009993</td>\n",
       "      <td>0.381746</td>\n",
       "      <td>0.373751</td>\n",
       "      <td>1.885410</td>\n",
       "      <td>0.165889</td>\n",
       "      <td>0.249167</td>\n",
       "      <td>0.171219</td>\n",
       "      <td>0.034644</td>\n",
       "      <td>0.103931</td>\n",
       "      <td>1.711526</td>\n",
       "      <td>1.383078</td>\n",
       "      <td>1.703531</td>\n",
       "      <td>1.461026</td>\n",
       "      <td>1.262492</td>\n",
       "      <td>2.645570</td>\n",
       "      <td>1.268488</td>\n",
       "    </tr>\n",
       "    <tr>\n",
       "      <th>std</th>\n",
       "      <td>0.470531</td>\n",
       "      <td>0.499542</td>\n",
       "      <td>0.490939</td>\n",
       "      <td>0.099499</td>\n",
       "      <td>0.485977</td>\n",
       "      <td>0.483960</td>\n",
       "      <td>0.318633</td>\n",
       "      <td>0.372105</td>\n",
       "      <td>0.432675</td>\n",
       "      <td>0.376826</td>\n",
       "      <td>0.182936</td>\n",
       "      <td>0.305272</td>\n",
       "      <td>0.569263</td>\n",
       "      <td>0.570807</td>\n",
       "      <td>0.545937</td>\n",
       "      <td>0.581360</td>\n",
       "      <td>0.567203</td>\n",
       "      <td>1.513372</td>\n",
       "      <td>0.683520</td>\n",
       "    </tr>\n",
       "    <tr>\n",
       "      <th>min</th>\n",
       "      <td>0.000000</td>\n",
       "      <td>0.000000</td>\n",
       "      <td>0.000000</td>\n",
       "      <td>0.000000</td>\n",
       "      <td>0.000000</td>\n",
       "      <td>0.000000</td>\n",
       "      <td>1.000000</td>\n",
       "      <td>0.000000</td>\n",
       "      <td>0.000000</td>\n",
       "      <td>0.000000</td>\n",
       "      <td>0.000000</td>\n",
       "      <td>0.000000</td>\n",
       "      <td>1.000000</td>\n",
       "      <td>0.000000</td>\n",
       "      <td>0.000000</td>\n",
       "      <td>0.000000</td>\n",
       "      <td>0.000000</td>\n",
       "      <td>1.000000</td>\n",
       "      <td>0.000000</td>\n",
       "    </tr>\n",
       "    <tr>\n",
       "      <th>25%</th>\n",
       "      <td>0.000000</td>\n",
       "      <td>0.000000</td>\n",
       "      <td>0.000000</td>\n",
       "      <td>0.000000</td>\n",
       "      <td>0.000000</td>\n",
       "      <td>0.000000</td>\n",
       "      <td>2.000000</td>\n",
       "      <td>0.000000</td>\n",
       "      <td>0.000000</td>\n",
       "      <td>0.000000</td>\n",
       "      <td>0.000000</td>\n",
       "      <td>0.000000</td>\n",
       "      <td>1.000000</td>\n",
       "      <td>1.000000</td>\n",
       "      <td>1.000000</td>\n",
       "      <td>1.000000</td>\n",
       "      <td>1.000000</td>\n",
       "      <td>1.000000</td>\n",
       "      <td>1.000000</td>\n",
       "    </tr>\n",
       "    <tr>\n",
       "      <th>50%</th>\n",
       "      <td>1.000000</td>\n",
       "      <td>0.000000</td>\n",
       "      <td>0.000000</td>\n",
       "      <td>0.000000</td>\n",
       "      <td>0.000000</td>\n",
       "      <td>0.000000</td>\n",
       "      <td>2.000000</td>\n",
       "      <td>0.000000</td>\n",
       "      <td>0.000000</td>\n",
       "      <td>0.000000</td>\n",
       "      <td>0.000000</td>\n",
       "      <td>0.000000</td>\n",
       "      <td>2.000000</td>\n",
       "      <td>1.000000</td>\n",
       "      <td>2.000000</td>\n",
       "      <td>2.000000</td>\n",
       "      <td>1.000000</td>\n",
       "      <td>2.000000</td>\n",
       "      <td>1.000000</td>\n",
       "    </tr>\n",
       "    <tr>\n",
       "      <th>75%</th>\n",
       "      <td>1.000000</td>\n",
       "      <td>1.000000</td>\n",
       "      <td>1.000000</td>\n",
       "      <td>0.000000</td>\n",
       "      <td>1.000000</td>\n",
       "      <td>1.000000</td>\n",
       "      <td>2.000000</td>\n",
       "      <td>0.000000</td>\n",
       "      <td>0.000000</td>\n",
       "      <td>0.000000</td>\n",
       "      <td>0.000000</td>\n",
       "      <td>0.000000</td>\n",
       "      <td>2.000000</td>\n",
       "      <td>2.000000</td>\n",
       "      <td>2.000000</td>\n",
       "      <td>2.000000</td>\n",
       "      <td>2.000000</td>\n",
       "      <td>4.000000</td>\n",
       "      <td>1.000000</td>\n",
       "    </tr>\n",
       "    <tr>\n",
       "      <th>max</th>\n",
       "      <td>1.000000</td>\n",
       "      <td>1.000000</td>\n",
       "      <td>1.000000</td>\n",
       "      <td>1.000000</td>\n",
       "      <td>1.000000</td>\n",
       "      <td>1.000000</td>\n",
       "      <td>2.000000</td>\n",
       "      <td>1.000000</td>\n",
       "      <td>1.000000</td>\n",
       "      <td>1.000000</td>\n",
       "      <td>1.000000</td>\n",
       "      <td>1.000000</td>\n",
       "      <td>3.000000</td>\n",
       "      <td>2.000000</td>\n",
       "      <td>2.000000</td>\n",
       "      <td>2.000000</td>\n",
       "      <td>2.000000</td>\n",
       "      <td>5.000000</td>\n",
       "      <td>3.000000</td>\n",
       "    </tr>\n",
       "  </tbody>\n",
       "</table>\n",
       "</div>"
      ],
      "text/plain": [
       "               HTN           DM          SMK           DL           FH  \\\n",
       "count  1501.000000  1501.000000  1501.000000  1501.000000  1501.000000   \n",
       "mean      0.669554     0.475017     0.404397     0.009993     0.381746   \n",
       "std       0.470531     0.499542     0.490939     0.099499     0.485977   \n",
       "min       0.000000     0.000000     0.000000     0.000000     0.000000   \n",
       "25%       0.000000     0.000000     0.000000     0.000000     0.000000   \n",
       "50%       1.000000     0.000000     0.000000     0.000000     0.000000   \n",
       "75%       1.000000     1.000000     1.000000     0.000000     1.000000   \n",
       "max       1.000000     1.000000     1.000000     1.000000     1.000000   \n",
       "\n",
       "               AMI          Sex       NSTEMI           SA           UA  \\\n",
       "count  1501.000000  1501.000000  1501.000000  1501.000000  1501.000000   \n",
       "mean      0.373751     1.885410     0.165889     0.249167     0.171219   \n",
       "std       0.483960     0.318633     0.372105     0.432675     0.376826   \n",
       "min       0.000000     1.000000     0.000000     0.000000     0.000000   \n",
       "25%       0.000000     2.000000     0.000000     0.000000     0.000000   \n",
       "50%       0.000000     2.000000     0.000000     0.000000     0.000000   \n",
       "75%       1.000000     2.000000     0.000000     0.000000     0.000000   \n",
       "max       1.000000     2.000000     1.000000     1.000000     1.000000   \n",
       "\n",
       "            HOCABG        HOPCI    Age_Group         LDL1         HDL1  \\\n",
       "count  1501.000000  1501.000000  1501.000000  1501.000000  1501.000000   \n",
       "mean      0.034644     0.103931     1.711526     1.383078     1.703531   \n",
       "std       0.182936     0.305272     0.569263     0.570807     0.545937   \n",
       "min       0.000000     0.000000     1.000000     0.000000     0.000000   \n",
       "25%       0.000000     0.000000     1.000000     1.000000     1.000000   \n",
       "50%       0.000000     0.000000     2.000000     1.000000     2.000000   \n",
       "75%       0.000000     0.000000     2.000000     2.000000     2.000000   \n",
       "max       1.000000     1.000000     3.000000     2.000000     2.000000   \n",
       "\n",
       "               TG1          EF1  Indication1          TC1  \n",
       "count  1501.000000  1501.000000  1501.000000  1501.000000  \n",
       "mean      1.461026     1.262492     2.645570     1.268488  \n",
       "std       0.581360     0.567203     1.513372     0.683520  \n",
       "min       0.000000     0.000000     1.000000     0.000000  \n",
       "25%       1.000000     1.000000     1.000000     1.000000  \n",
       "50%       2.000000     1.000000     2.000000     1.000000  \n",
       "75%       2.000000     2.000000     4.000000     1.000000  \n",
       "max       2.000000     2.000000     5.000000     3.000000  "
      ]
     },
     "execution_count": 8,
     "metadata": {},
     "output_type": "execute_result"
    }
   ],
   "source": [
    "df.describe()"
   ]
  },
  {
   "cell_type": "code",
   "execution_count": 9,
   "id": "ba2ca5be",
   "metadata": {},
   "outputs": [
    {
     "data": {
      "text/plain": [
       "Index(['HTN', 'DM', 'SMK', 'DL', 'FH', 'AMI', 'Sex', 'NSTEMI', 'SA', 'UA',\n",
       "       'HOCABG', 'HOPCI', 'Age_Group', 'LDL1', 'HDL1', 'TG1', 'EF1',\n",
       "       'Indication1', 'TC1'],\n",
       "      dtype='object')"
      ]
     },
     "execution_count": 9,
     "metadata": {},
     "output_type": "execute_result"
    }
   ],
   "source": [
    "# ii) Feature Names and Counts = 18 Dep and 1 indep features\n",
    "df.columns"
   ]
  },
  {
   "cell_type": "markdown",
   "id": "b2ec45a9",
   "metadata": {},
   "source": [
    "# iii) Handel the Missing Values and Outliers  "
   ]
  },
  {
   "cell_type": "markdown",
   "id": "e01c82bf",
   "metadata": {},
   "source": [
    "Use Mice algorithms "
   ]
  },
  {
   "cell_type": "code",
   "execution_count": 10,
   "id": "b2650e97",
   "metadata": {},
   "outputs": [],
   "source": [
    "from sklearn.experimental import enable_iterative_imputer\n",
    "from sklearn.impute import IterativeImputer"
   ]
  },
  {
   "cell_type": "code",
   "execution_count": 11,
   "id": "aa11b1f7",
   "metadata": {},
   "outputs": [],
   "source": [
    "df_imputer = df.copy(deep= True)"
   ]
  },
  {
   "cell_type": "code",
   "execution_count": 12,
   "id": "950d2b0c",
   "metadata": {},
   "outputs": [],
   "source": [
    "iterimp = IterativeImputer()\n",
    "df_imputer.iloc[:,:] = iterimp.fit_transform(df_imputer)"
   ]
  },
  {
   "cell_type": "code",
   "execution_count": 13,
   "id": "5c62f167",
   "metadata": {},
   "outputs": [
    {
     "data": {
      "text/plain": [
       "HTN            0\n",
       "DM             0\n",
       "SMK            0\n",
       "DL             0\n",
       "FH             0\n",
       "AMI            0\n",
       "Sex            0\n",
       "NSTEMI         0\n",
       "SA             0\n",
       "UA             0\n",
       "HOCABG         0\n",
       "HOPCI          0\n",
       "Age_Group      0\n",
       "LDL1           0\n",
       "HDL1           0\n",
       "TG1            0\n",
       "EF1            0\n",
       "Indication1    0\n",
       "TC1            0\n",
       "dtype: int64"
      ]
     },
     "execution_count": 13,
     "metadata": {},
     "output_type": "execute_result"
    }
   ],
   "source": [
    "df_imputer.isna().sum()"
   ]
  },
  {
   "cell_type": "code",
   "execution_count": 14,
   "id": "49af2909",
   "metadata": {},
   "outputs": [],
   "source": [
    "df=df_imputer"
   ]
  },
  {
   "cell_type": "code",
   "execution_count": 15,
   "id": "16d94515",
   "metadata": {},
   "outputs": [
    {
     "data": {
      "text/plain": [
       "HTN            0\n",
       "DM             0\n",
       "SMK            0\n",
       "DL             0\n",
       "FH             0\n",
       "AMI            0\n",
       "Sex            0\n",
       "NSTEMI         0\n",
       "SA             0\n",
       "UA             0\n",
       "HOCABG         0\n",
       "HOPCI          0\n",
       "Age_Group      0\n",
       "LDL1           0\n",
       "HDL1           0\n",
       "TG1            0\n",
       "EF1            0\n",
       "Indication1    0\n",
       "TC1            0\n",
       "dtype: int64"
      ]
     },
     "execution_count": 15,
     "metadata": {},
     "output_type": "execute_result"
    }
   ],
   "source": [
    "df.isnull().sum()"
   ]
  },
  {
   "cell_type": "markdown",
   "id": "099d33ce",
   "metadata": {},
   "source": [
    "print(df['LDL1'].mode())\n",
    "print(df['HDL1'].mode())\n",
    "print(df['TG1'].mode())\n",
    "print(df['EF1'].mode())\n",
    "print(df['TC1'].mode())"
   ]
  },
  {
   "cell_type": "markdown",
   "id": "d81224be",
   "metadata": {},
   "source": [
    "THE LINE IS COMMENT \n",
    "\n",
    "df['column_name']=df['column_name'].replace([v1, v2, v3], [a, b, c])\n",
    "df['column_name']=df['column_name'].replace([v1, v2, v3], [a, b, c])\n",
    "df[['LDL1', 'HDL1', 'TG1', 'EF1', 'TC1']]"
   ]
  },
  {
   "cell_type": "markdown",
   "id": "e083b7fe",
   "metadata": {},
   "source": [
    "df['LDL1']=df['LDL1'].replace([0],[1]) \n",
    "df['HDL1']=df['HDL1'].replace([0],[2]) \n",
    "df['TG1']=df['TG1'].replace([0],[2]) \n",
    "df['EF1']=df['EF1'].replace([0],[1]) \n",
    "df['TC1']=df['TC1'].replace([0],[1]) "
   ]
  },
  {
   "cell_type": "raw",
   "id": "d79395b6",
   "metadata": {},
   "source": [
    "# The line is cooment now \n",
    "#Using Mode values Handel the Missing Values \n",
    "for col in ['LDL1', 'HDL1', 'TG1', 'EF1', 'TC1']:\n",
    "    df[col].fillna(df[col].mode().iloc[0], inplace=True)"
   ]
  },
  {
   "cell_type": "code",
   "execution_count": 16,
   "id": "70508915",
   "metadata": {},
   "outputs": [
    {
     "data": {
      "text/plain": [
       "HTN            0\n",
       "DM             0\n",
       "SMK            0\n",
       "DL             0\n",
       "FH             0\n",
       "AMI            0\n",
       "Sex            0\n",
       "NSTEMI         0\n",
       "SA             0\n",
       "UA             0\n",
       "HOCABG         0\n",
       "HOPCI          0\n",
       "Age_Group      0\n",
       "LDL1           0\n",
       "HDL1           0\n",
       "TG1            0\n",
       "EF1            0\n",
       "Indication1    0\n",
       "TC1            0\n",
       "dtype: int64"
      ]
     },
     "execution_count": 16,
     "metadata": {},
     "output_type": "execute_result"
    }
   ],
   "source": [
    "df.isnull().sum()"
   ]
  },
  {
   "cell_type": "markdown",
   "id": "71c1287d",
   "metadata": {},
   "source": [
    "# iv) Check the duplicates"
   ]
  },
  {
   "cell_type": "markdown",
   "id": "d57e024d",
   "metadata": {},
   "source": [
    "Drop the Object Columns (Name Column Delted) "
   ]
  },
  {
   "cell_type": "code",
   "execution_count": 17,
   "id": "50f5c71d",
   "metadata": {},
   "outputs": [
    {
     "data": {
      "text/plain": [
       "388"
      ]
     },
     "execution_count": 17,
     "metadata": {},
     "output_type": "execute_result"
    }
   ],
   "source": [
    "df.duplicated().sum()"
   ]
  },
  {
   "cell_type": "code",
   "execution_count": 18,
   "id": "b7a34a88",
   "metadata": {},
   "outputs": [],
   "source": [
    "df.drop_duplicates(inplace=True)"
   ]
  },
  {
   "cell_type": "code",
   "execution_count": 19,
   "id": "8fc404ec",
   "metadata": {},
   "outputs": [
    {
     "name": "stdout",
     "output_type": "stream",
     "text": [
      "<class 'pandas.core.frame.DataFrame'>\n",
      "Int64Index: 1113 entries, 0 to 1500\n",
      "Data columns (total 19 columns):\n",
      " #   Column       Non-Null Count  Dtype\n",
      "---  ------       --------------  -----\n",
      " 0   HTN          1113 non-null   int64\n",
      " 1   DM           1113 non-null   int64\n",
      " 2   SMK          1113 non-null   int64\n",
      " 3   DL           1113 non-null   int64\n",
      " 4   FH           1113 non-null   int64\n",
      " 5   AMI          1113 non-null   int64\n",
      " 6   Sex          1113 non-null   int64\n",
      " 7   NSTEMI       1113 non-null   int64\n",
      " 8   SA           1113 non-null   int64\n",
      " 9   UA           1113 non-null   int64\n",
      " 10  HOCABG       1113 non-null   int64\n",
      " 11  HOPCI        1113 non-null   int64\n",
      " 12  Age_Group    1113 non-null   int64\n",
      " 13  LDL1         1113 non-null   int64\n",
      " 14  HDL1         1113 non-null   int64\n",
      " 15  TG1          1113 non-null   int64\n",
      " 16  EF1          1113 non-null   int64\n",
      " 17  Indication1  1113 non-null   int64\n",
      " 18  TC1          1113 non-null   int64\n",
      "dtypes: int64(19)\n",
      "memory usage: 173.9 KB\n"
     ]
    }
   ],
   "source": [
    "df.info()"
   ]
  },
  {
   "cell_type": "code",
   "execution_count": 20,
   "id": "bbb3c8c5",
   "metadata": {},
   "outputs": [
    {
     "data": {
      "text/plain": [
       "0    712\n",
       "1    401\n",
       "Name: AMI, dtype: int64"
      ]
     },
     "execution_count": 20,
     "metadata": {},
     "output_type": "execute_result"
    }
   ],
   "source": [
    "# v) SHow the imbalanced Dataset using Graph \n",
    "df['AMI'].value_counts()"
   ]
  },
  {
   "cell_type": "code",
   "execution_count": 21,
   "id": "c26e164c",
   "metadata": {},
   "outputs": [
    {
     "data": {
      "text/plain": [
       "303"
      ]
     },
     "execution_count": 21,
     "metadata": {},
     "output_type": "execute_result"
    }
   ],
   "source": [
    "699-396 \n",
    "#imbanalced Dataset Half dataset is Missing after removing the sublicated , "
   ]
  },
  {
   "cell_type": "markdown",
   "id": "c71e506d",
   "metadata": {},
   "source": [
    "# 4)  Feature Selection using orginal data (without Null and duplicate) "
   ]
  },
  {
   "cell_type": "code",
   "execution_count": 22,
   "id": "d2883a0b",
   "metadata": {},
   "outputs": [],
   "source": [
    "from sklearn.preprocessing import LabelEncoder\n",
    "from sklearn.model_selection import train_test_split\n",
    "from sklearn.linear_model import LogisticRegression\n",
    "from sklearn.metrics import accuracy_score\n",
    "\n",
    "# Separate features and target\n",
    "X_Feature_Selection = df.drop('AMI', axis=1)\n",
    "y_Feature_Selection = df['AMI']\n",
    "\n",
    "# Split data into training and testing sets\n",
    "X_train_Feature_Selection, X_test_Feature_Selection, y_train_Feature_Selection, y_test_Feature_Selection = train_test_split(X_Feature_Selection, y_Feature_Selection, test_size=0.2, random_state=42)"
   ]
  },
  {
   "cell_type": "code",
   "execution_count": 23,
   "id": "b8be2009",
   "metadata": {},
   "outputs": [
    {
     "name": "stdout",
     "output_type": "stream",
     "text": [
      "(890, 18)\n",
      "(223, 18)\n",
      "(890,)\n",
      "(223,)\n"
     ]
    }
   ],
   "source": [
    "print(X_train_Feature_Selection.shape)\n",
    "print(X_test_Feature_Selection.shape)\n",
    "print(y_train_Feature_Selection.shape)\n",
    "print(y_test_Feature_Selection.shape)"
   ]
  },
  {
   "cell_type": "markdown",
   "id": "d0348d61",
   "metadata": {},
   "source": [
    "# i)Checking Multicolinearity using orginal data (without Null and duplicate)"
   ]
  },
  {
   "cell_type": "code",
   "execution_count": 24,
   "id": "ae8b4251",
   "metadata": {},
   "outputs": [
    {
     "data": {
      "text/html": [
       "<svg  width=\"660\" height=\"55\"><rect x=\"0\" y=\"0\" width=\"55\" height=\"55\" style=\"fill:#a6cee3;stroke-width:2;stroke:rgb(255,255,255)\"/><rect x=\"55\" y=\"0\" width=\"55\" height=\"55\" style=\"fill:#1f78b4;stroke-width:2;stroke:rgb(255,255,255)\"/><rect x=\"110\" y=\"0\" width=\"55\" height=\"55\" style=\"fill:#b2df8a;stroke-width:2;stroke:rgb(255,255,255)\"/><rect x=\"165\" y=\"0\" width=\"55\" height=\"55\" style=\"fill:#33a02c;stroke-width:2;stroke:rgb(255,255,255)\"/><rect x=\"220\" y=\"0\" width=\"55\" height=\"55\" style=\"fill:#fb9a99;stroke-width:2;stroke:rgb(255,255,255)\"/><rect x=\"275\" y=\"0\" width=\"55\" height=\"55\" style=\"fill:#e31a1c;stroke-width:2;stroke:rgb(255,255,255)\"/><rect x=\"330\" y=\"0\" width=\"55\" height=\"55\" style=\"fill:#fdbf6f;stroke-width:2;stroke:rgb(255,255,255)\"/><rect x=\"385\" y=\"0\" width=\"55\" height=\"55\" style=\"fill:#ff7f00;stroke-width:2;stroke:rgb(255,255,255)\"/><rect x=\"440\" y=\"0\" width=\"55\" height=\"55\" style=\"fill:#cab2d6;stroke-width:2;stroke:rgb(255,255,255)\"/><rect x=\"495\" y=\"0\" width=\"55\" height=\"55\" style=\"fill:#6a3d9a;stroke-width:2;stroke:rgb(255,255,255)\"/><rect x=\"550\" y=\"0\" width=\"55\" height=\"55\" style=\"fill:#ffff99;stroke-width:2;stroke:rgb(255,255,255)\"/><rect x=\"605\" y=\"0\" width=\"55\" height=\"55\" style=\"fill:#b15928;stroke-width:2;stroke:rgb(255,255,255)\"/></svg>"
      ],
      "text/plain": [
       "[(0.6509803921568628, 0.807843137254902, 0.8901960784313725),\n",
       " (0.12156862745098039, 0.47058823529411764, 0.7058823529411765),\n",
       " (0.6980392156862745, 0.8745098039215686, 0.5411764705882353),\n",
       " (0.2, 0.6274509803921569, 0.17254901960784313),\n",
       " (0.984313725490196, 0.6039215686274509, 0.6),\n",
       " (0.8901960784313725, 0.10196078431372549, 0.10980392156862745),\n",
       " (0.9921568627450981, 0.7490196078431373, 0.43529411764705883),\n",
       " (1.0, 0.4980392156862745, 0.0),\n",
       " (0.792156862745098, 0.6980392156862745, 0.8392156862745098),\n",
       " (0.41568627450980394, 0.23921568627450981, 0.6039215686274509),\n",
       " (1.0, 1.0, 0.6),\n",
       " (0.6941176470588235, 0.34901960784313724, 0.1568627450980392)]"
      ]
     },
     "execution_count": 24,
     "metadata": {},
     "output_type": "execute_result"
    },
    {
     "data": {
      "image/png": "[encoded data removed]",
      "text/plain": [
       "<Figure size 2500x1000 with 2 Axes>"
      ]
     },
     "metadata": {},
     "output_type": "display_data"
    }
   ],
   "source": [
    "#Multicolinearity Test \n",
    "plt.figure(figsize=(25,10))\n",
    "sns.heatmap(X_Feature_Selection.corr(),cmap=\"Blues\", annot=True)\n",
    "sns.color_palette(\"Paired\")"
   ]
  },
  {
   "cell_type": "code",
   "execution_count": 25,
   "id": "aad7b2a9",
   "metadata": {},
   "outputs": [
    {
     "name": "stdout",
     "output_type": "stream",
     "text": [
      "<class 'pandas.core.frame.DataFrame'>\n",
      "Int64Index: 890 entries, 450 to 1115\n",
      "Data columns (total 18 columns):\n",
      " #   Column       Non-Null Count  Dtype\n",
      "---  ------       --------------  -----\n",
      " 0   HTN          890 non-null    int64\n",
      " 1   DM           890 non-null    int64\n",
      " 2   SMK          890 non-null    int64\n",
      " 3   DL           890 non-null    int64\n",
      " 4   FH           890 non-null    int64\n",
      " 5   Sex          890 non-null    int64\n",
      " 6   NSTEMI       890 non-null    int64\n",
      " 7   SA           890 non-null    int64\n",
      " 8   UA           890 non-null    int64\n",
      " 9   HOCABG       890 non-null    int64\n",
      " 10  HOPCI        890 non-null    int64\n",
      " 11  Age_Group    890 non-null    int64\n",
      " 12  LDL1         890 non-null    int64\n",
      " 13  HDL1         890 non-null    int64\n",
      " 14  TG1          890 non-null    int64\n",
      " 15  EF1          890 non-null    int64\n",
      " 16  Indication1  890 non-null    int64\n",
      " 17  TC1          890 non-null    int64\n",
      "dtypes: int64(18)\n",
      "memory usage: 132.1 KB\n"
     ]
    }
   ],
   "source": [
    "X_train_Feature_Selection.info()"
   ]
  },
  {
   "cell_type": "code",
   "execution_count": 26,
   "id": "444076b0",
   "metadata": {},
   "outputs": [],
   "source": [
    "# VIF SCORES \n",
    "from statsmodels.stats.outliers_influence import variance_inflation_factor\n",
    "vif = []\n",
    "for i in range(X_train_Feature_Selection.shape[1]):\n",
    "    vif.append(variance_inflation_factor(X_train_Feature_Selection, i))"
   ]
  },
  {
   "cell_type": "code",
   "execution_count": 27,
   "id": "02f6c645",
   "metadata": {},
   "outputs": [
    {
     "data": {
      "text/html": [
       "<div>\n",
       "<style scoped>\n",
       "    .dataframe tbody tr th:only-of-type {\n",
       "        vertical-align: middle;\n",
       "    }\n",
       "\n",
       "    .dataframe tbody tr th {\n",
       "        vertical-align: top;\n",
       "    }\n",
       "\n",
       "    .dataframe thead th {\n",
       "        text-align: right;\n",
       "    }\n",
       "</style>\n",
       "<table border=\"1\" class=\"dataframe\">\n",
       "  <thead>\n",
       "    <tr style=\"text-align: right;\">\n",
       "      <th></th>\n",
       "      <th>HTN</th>\n",
       "      <th>DM</th>\n",
       "      <th>SMK</th>\n",
       "      <th>DL</th>\n",
       "      <th>FH</th>\n",
       "      <th>Sex</th>\n",
       "      <th>NSTEMI</th>\n",
       "      <th>SA</th>\n",
       "      <th>UA</th>\n",
       "      <th>HOCABG</th>\n",
       "      <th>HOPCI</th>\n",
       "      <th>Age_Group</th>\n",
       "      <th>LDL1</th>\n",
       "      <th>HDL1</th>\n",
       "      <th>TG1</th>\n",
       "      <th>EF1</th>\n",
       "      <th>Indication1</th>\n",
       "      <th>TC1</th>\n",
       "    </tr>\n",
       "  </thead>\n",
       "  <tbody>\n",
       "    <tr>\n",
       "      <th>vif</th>\n",
       "      <td>3.185535</td>\n",
       "      <td>2.082549</td>\n",
       "      <td>1.935619</td>\n",
       "      <td>1.048344</td>\n",
       "      <td>1.754259</td>\n",
       "      <td>22.282034</td>\n",
       "      <td>2.246843</td>\n",
       "      <td>1.936174</td>\n",
       "      <td>2.955895</td>\n",
       "      <td>1.281058</td>\n",
       "      <td>2.169099</td>\n",
       "      <td>9.286418</td>\n",
       "      <td>13.616683</td>\n",
       "      <td>14.118229</td>\n",
       "      <td>10.902999</td>\n",
       "      <td>7.444486</td>\n",
       "      <td>14.091573</td>\n",
       "      <td>7.840518</td>\n",
       "    </tr>\n",
       "  </tbody>\n",
       "</table>\n",
       "</div>"
      ],
      "text/plain": [
       "          HTN        DM       SMK        DL        FH        Sex    NSTEMI  \\\n",
       "vif  3.185535  2.082549  1.935619  1.048344  1.754259  22.282034  2.246843   \n",
       "\n",
       "           SA        UA    HOCABG     HOPCI  Age_Group       LDL1       HDL1  \\\n",
       "vif  1.936174  2.955895  1.281058  2.169099   9.286418  13.616683  14.118229   \n",
       "\n",
       "           TG1       EF1  Indication1       TC1  \n",
       "vif  10.902999  7.444486    14.091573  7.840518  "
      ]
     },
     "execution_count": 27,
     "metadata": {},
     "output_type": "execute_result"
    }
   ],
   "source": [
    "pd.DataFrame({'vif': vif}, index=X_train_Feature_Selection.columns[0:18]).T"
   ]
  },
  {
   "cell_type": "markdown",
   "id": "f8a0419d",
   "metadata": {},
   "source": [
    "# ii) Lasso technique for feature selection using orginal data (without Null and duplicate)"
   ]
  },
  {
   "cell_type": "code",
   "execution_count": 28,
   "id": "fdc39545",
   "metadata": {},
   "outputs": [
    {
     "name": "stdout",
     "output_type": "stream",
     "text": [
      "Best Params {'alpha': 1e-05}\n"
     ]
    }
   ],
   "source": [
    "# parameters to be tested on GridSearchCV\n",
    "params = {\"alpha\":np.arange(0.00001, 10, 500)}\n",
    "\n",
    "# Number of Folds and adding the random state for replication\n",
    "kf=KFold(n_splits=10,shuffle=True, random_state=42)\n",
    "\n",
    "# Initializing the Model\n",
    "lasso = Lasso()\n",
    "\n",
    "# GridSearchCV with model, params and folds.\n",
    "lasso_cv=GridSearchCV(lasso, param_grid=params, cv=kf)\n",
    "lasso_cv.fit(X_Feature_Selection,y_Feature_Selection)\n",
    "print(\"Best Params {}\".format(lasso_cv.best_params_))"
   ]
  },
  {
   "cell_type": "code",
   "execution_count": 29,
   "id": "154582cc",
   "metadata": {},
   "outputs": [
    {
     "name": "stdout",
     "output_type": "stream",
     "text": [
      "Column Names: ['HTN' 'DM' 'SMK' 'DL' 'FH' 'Sex' 'NSTEMI' 'SA' 'UA' 'HOCABG' 'HOPCI'\n",
      " 'Age_Group' 'LDL1' 'HDL1' 'TG1' 'EF1' 'Indication1' 'TC1']\n"
     ]
    }
   ],
   "source": [
    "names=df.drop(\"AMI\", axis=1).columns\n",
    "print(\"Column Names: {}\".format(names.values))"
   ]
  },
  {
   "cell_type": "code",
   "execution_count": 30,
   "id": "55382b5b",
   "metadata": {},
   "outputs": [
    {
     "name": "stdout",
     "output_type": "stream",
     "text": [
      "Best Params {'alpha': 1e-05}\n"
     ]
    }
   ],
   "source": [
    "# Initializing the Model\n",
    "lasso = Lasso()\n",
    "\n",
    "# GridSearchCV with model, params and folds.\n",
    "lasso_cv=GridSearchCV(lasso, param_grid=params , cv=kf)\n",
    "lasso_cv.fit(X_Feature_Selection,y_Feature_Selection)\n",
    "print(\"Best Params {}\".format(lasso_cv.best_params_))"
   ]
  },
  {
   "cell_type": "code",
   "execution_count": 31,
   "id": "e28b28be",
   "metadata": {},
   "outputs": [
    {
     "data": {
      "image/png": "[encoded data removed]",
      "text/plain": [
       "<Figure size 640x480 with 1 Axes>"
      ]
     },
     "metadata": {},
     "output_type": "display_data"
    }
   ],
   "source": [
    "lasso1 = Lasso(alpha=0.00001)\n",
    "lasso1.fit(X_train_Feature_Selection, y_train_Feature_Selection)\n",
    "\n",
    "# Using np.abs() to make coefficients positive.  \n",
    "lasso1_coef = np.abs(lasso1.coef_)\n",
    "\n",
    "# plotting the Column Names and Importance of Columns. \n",
    "plt.bar(names, lasso1_coef)\n",
    "plt.xticks(rotation=90)\n",
    "plt.grid()\n",
    "plt.title(\"Feature Selection Based on Lasso\")\n",
    "plt.xlabel(\"Features\")\n",
    "plt.ylabel(\"Importance\")\n",
    "plt.ylim(0,0.15)\n",
    "plt.show()"
   ]
  },
  {
   "cell_type": "code",
   "execution_count": 32,
   "id": "d4405d4c",
   "metadata": {},
   "outputs": [
    {
     "data": {
      "text/plain": [
       "275"
      ]
     },
     "execution_count": 32,
     "metadata": {},
     "output_type": "execute_result"
    }
   ],
   "source": [
    "107+23+16+129"
   ]
  },
  {
   "cell_type": "code",
   "execution_count": 33,
   "id": "3aacedc0",
   "metadata": {},
   "outputs": [
    {
     "data": {
      "text/plain": [
       "275"
      ]
     },
     "execution_count": 33,
     "metadata": {},
     "output_type": "execute_result"
    }
   ],
   "source": [
    "98+19+25+133"
   ]
  },
  {
   "cell_type": "markdown",
   "id": "55af0761",
   "metadata": {},
   "source": [
    "# Feature Engineering "
   ]
  },
  {
   "cell_type": "markdown",
   "id": "c25c04cf",
   "metadata": {},
   "source": [
    "# Oversampling ( Training dataset not the Whole dataset) "
   ]
  },
  {
   "cell_type": "code",
   "execution_count": 165,
   "id": "43bddcc2",
   "metadata": {},
   "outputs": [],
   "source": [
    "from sklearn.model_selection import train_test_split\n",
    "from imblearn.over_sampling import SMOTE\n",
    "X = df.drop('AMI',axis=1)\n",
    "y = df['AMI']\n",
    "X_train, X_test, y_train, y_test = train_test_split(X, y, test_size=0.3, random_state=0)"
   ]
  },
  {
   "cell_type": "code",
   "execution_count": 166,
   "id": "9460ce59",
   "metadata": {},
   "outputs": [
    {
     "name": "stdout",
     "output_type": "stream",
     "text": [
      "After OverSampling, the shape of train_X: (1012, 18)\n",
      "After OverSampling, the shape of train_y: (1012,) \n",
      "\n",
      "After OverSampling, counts of label '1': 506\n",
      "After OverSampling, counts of label '0': 506\n"
     ]
    }
   ],
   "source": [
    "# vi) DATA balanced in Smote technique \n",
    "from imblearn.over_sampling import SMOTE \n",
    "sm = SMOTE(random_state = 2) \n",
    "x_train_oversampled, y_train_oversampled = sm.fit_resample(X_train, y_train) \n",
    "  \n",
    "print('After OverSampling, the shape of train_X: {}'.format(x_train_oversampled.shape)) \n",
    "print('After OverSampling, the shape of train_y: {} \\n'.format(y_train_oversampled.shape)) \n",
    "  \n",
    "print(\"After OverSampling, counts of label '1': {}\".format(sum(y_train_oversampled == 1))) \n",
    "print(\"After OverSampling, counts of label '0': {}\".format(sum(y_train_oversampled == 0))) "
   ]
  },
  {
   "cell_type": "code",
   "execution_count": 167,
   "id": "32871f6b",
   "metadata": {},
   "outputs": [],
   "source": [
    "y_train_oversampled=pd.DataFrame(y_train_oversampled)\n",
    "y_test=pd.DataFrame(y_test)"
   ]
  },
  {
   "cell_type": "code",
   "execution_count": 168,
   "id": "8715c6ed",
   "metadata": {},
   "outputs": [],
   "source": [
    "y_oversampled_dataframe=pd.concat([y_train_oversampled,y_test],axis=0)"
   ]
  },
  {
   "cell_type": "code",
   "execution_count": 169,
   "id": "795da973",
   "metadata": {},
   "outputs": [
    {
     "name": "stdout",
     "output_type": "stream",
     "text": [
      "<class 'pandas.core.frame.DataFrame'>\n",
      "Int64Index: 1346 entries, 0 to 116\n",
      "Data columns (total 1 columns):\n",
      " #   Column  Non-Null Count  Dtype\n",
      "---  ------  --------------  -----\n",
      " 0   AMI     1346 non-null   int64\n",
      "dtypes: int64(1)\n",
      "memory usage: 21.0 KB\n"
     ]
    }
   ],
   "source": [
    "y_oversampled_dataframe.info()"
   ]
  },
  {
   "cell_type": "code",
   "execution_count": 170,
   "id": "1e324406",
   "metadata": {},
   "outputs": [],
   "source": [
    "x_train_oversampled=pd.DataFrame(x_train_oversampled)\n",
    "x_test=pd.DataFrame(X_test)"
   ]
  },
  {
   "cell_type": "code",
   "execution_count": 171,
   "id": "eacb6dd3",
   "metadata": {},
   "outputs": [],
   "source": [
    "x_oversampled_dataframe=pd.concat([x_train_oversampled,x_test],axis=0)"
   ]
  },
  {
   "cell_type": "code",
   "execution_count": 172,
   "id": "e5f02139",
   "metadata": {},
   "outputs": [],
   "source": [
    "# Making New DataFrame with oversampled Data\n",
    "df_oversampled=pd.concat([x_oversampled_dataframe, y_oversampled_dataframe],axis=1)"
   ]
  },
  {
   "cell_type": "code",
   "execution_count": 173,
   "id": "1aa7886d",
   "metadata": {},
   "outputs": [
    {
     "name": "stdout",
     "output_type": "stream",
     "text": [
      "<class 'pandas.core.frame.DataFrame'>\n",
      "Int64Index: 1346 entries, 0 to 116\n",
      "Data columns (total 19 columns):\n",
      " #   Column       Non-Null Count  Dtype\n",
      "---  ------       --------------  -----\n",
      " 0   HTN          1346 non-null   int64\n",
      " 1   DM           1346 non-null   int64\n",
      " 2   SMK          1346 non-null   int64\n",
      " 3   DL           1346 non-null   int64\n",
      " 4   FH           1346 non-null   int64\n",
      " 5   Sex          1346 non-null   int64\n",
      " 6   NSTEMI       1346 non-null   int64\n",
      " 7   SA           1346 non-null   int64\n",
      " 8   UA           1346 non-null   int64\n",
      " 9   HOCABG       1346 non-null   int64\n",
      " 10  HOPCI        1346 non-null   int64\n",
      " 11  Age_Group    1346 non-null   int64\n",
      " 12  LDL1         1346 non-null   int64\n",
      " 13  HDL1         1346 non-null   int64\n",
      " 14  TG1          1346 non-null   int64\n",
      " 15  EF1          1346 non-null   int64\n",
      " 16  Indication1  1346 non-null   int64\n",
      " 17  TC1          1346 non-null   int64\n",
      " 18  AMI          1346 non-null   int64\n",
      "dtypes: int64(19)\n",
      "memory usage: 210.3 KB\n"
     ]
    }
   ],
   "source": [
    "df_oversampled.info()"
   ]
  },
  {
   "cell_type": "code",
   "execution_count": 174,
   "id": "d4592ac6",
   "metadata": {},
   "outputs": [],
   "source": [
    "df.to_excel('dataset_excel_file_for_R.xlsx', index=False)"
   ]
  },
  {
   "cell_type": "code",
   "execution_count": 175,
   "id": "0aa897fc",
   "metadata": {},
   "outputs": [
    {
     "name": "stdout",
     "output_type": "stream",
     "text": [
      "AMI\n",
      "0      206\n",
      "1      128\n",
      "dtype: int64\n",
      "AMI\n",
      "0      506\n",
      "1      506\n",
      "dtype: int64\n"
     ]
    }
   ],
   "source": [
    "# SIZE OF TEST AND TRAINING DATASET \n",
    "print(y_test.value_counts())\n",
    "print(y_train_oversampled.value_counts())"
   ]
  },
  {
   "cell_type": "code",
   "execution_count": 176,
   "id": "6cd9e6d9",
   "metadata": {},
   "outputs": [
    {
     "name": "stdout",
     "output_type": "stream",
     "text": [
      "training_data 1012\n",
      "test_data 334\n"
     ]
    }
   ],
   "source": [
    "print('training_data',506+506)\n",
    "print('test_data',206+128)"
   ]
  },
  {
   "cell_type": "code",
   "execution_count": 177,
   "id": "98b9722f",
   "metadata": {},
   "outputs": [
    {
     "name": "stdout",
     "output_type": "stream",
     "text": [
      "total_data 1346\n"
     ]
    }
   ],
   "source": [
    "total_data=(1012+334)\n",
    "print('total_data',total_data)"
   ]
  },
  {
   "cell_type": "markdown",
   "id": "6f17a3a9",
   "metadata": {},
   "source": [
    "Data amount : 1346 "
   ]
  },
  {
   "cell_type": "markdown",
   "id": "0f034d12",
   "metadata": {},
   "source": [
    " MinMaxScaller in Oversampled Dataset"
   ]
  },
  {
   "cell_type": "markdown",
   "id": "41987ff1",
   "metadata": {},
   "source": [
    "'''s_scaler =MinMaxScaler()\n",
    "df_MinMaxScaller = s_scaler.fit_transform(df_oversampled)\n",
    "df_MinMaxScaller = pd.DataFrame(df_MinMaxScaller, columns=df_oversampled.columns)'''"
   ]
  },
  {
   "cell_type": "markdown",
   "id": "924b6457",
   "metadata": {},
   "source": [
    "df_MinMaxScaller.head(20)"
   ]
  },
  {
   "cell_type": "markdown",
   "id": "25ee5439",
   "metadata": {},
   "source": [
    "5) Model insialization (  not using the scaler"
   ]
  },
  {
   "cell_type": "markdown",
   "id": "8bff1242",
   "metadata": {},
   "source": [
    "from sklearn.model_selection import train_test_split\n",
    "from imblearn.over_sampling import SMOTE\n",
    "x_MinMaxScaller = df_MinMaxScaller.drop('AMI',axis=1)\n",
    "y_MinMaxScaller = df_MinMaxScaller['AMI']\n",
    "x_train_MinMaxScaller, x_test_MinMaxScaller, y_train_MinMaxScaller, y_test_MinMaxScaller = train_test_split(x_MinMaxScaller, y_MinMaxScaller, test_size=0.3, random_state=0)"
   ]
  },
  {
   "cell_type": "code",
   "execution_count": 178,
   "id": "e6d0d838",
   "metadata": {},
   "outputs": [],
   "source": [
    "# Can use K Flod "
   ]
  },
  {
   "cell_type": "markdown",
   "id": "e85eb778",
   "metadata": {},
   "source": [
    "# 2)\tClassification Algorithms and Classification parameters."
   ]
  },
  {
   "cell_type": "code",
   "execution_count": 179,
   "id": "51cd8381",
   "metadata": {},
   "outputs": [],
   "source": [
    "# 1)Used Algorithm \n",
    "# ii) Used Parameters \n",
    "#iii) Accuracy scores "
   ]
  },
  {
   "cell_type": "markdown",
   "id": "6d944c01",
   "metadata": {},
   "source": [
    "# Result Part "
   ]
  },
  {
   "cell_type": "code",
   "execution_count": 180,
   "id": "62718213",
   "metadata": {},
   "outputs": [],
   "source": [
    "# After Doing all things the shape of the data and columns Also the Target variables "
   ]
  },
  {
   "cell_type": "markdown",
   "id": "31752ab5",
   "metadata": {},
   "source": [
    "# Using Oversampling data the analysis part is happened "
   ]
  },
  {
   "cell_type": "markdown",
   "id": "52347541",
   "metadata": {},
   "source": [
    "# Divide the over Sampled Data"
   ]
  },
  {
   "cell_type": "code",
   "execution_count": 181,
   "id": "f0f29436",
   "metadata": {},
   "outputs": [
    {
     "name": "stdout",
     "output_type": "stream",
     "text": [
      "<class 'pandas.core.frame.DataFrame'>\n",
      "Int64Index: 1346 entries, 0 to 116\n",
      "Data columns (total 19 columns):\n",
      " #   Column       Non-Null Count  Dtype\n",
      "---  ------       --------------  -----\n",
      " 0   HTN          1346 non-null   int64\n",
      " 1   DM           1346 non-null   int64\n",
      " 2   SMK          1346 non-null   int64\n",
      " 3   DL           1346 non-null   int64\n",
      " 4   FH           1346 non-null   int64\n",
      " 5   Sex          1346 non-null   int64\n",
      " 6   NSTEMI       1346 non-null   int64\n",
      " 7   SA           1346 non-null   int64\n",
      " 8   UA           1346 non-null   int64\n",
      " 9   HOCABG       1346 non-null   int64\n",
      " 10  HOPCI        1346 non-null   int64\n",
      " 11  Age_Group    1346 non-null   int64\n",
      " 12  LDL1         1346 non-null   int64\n",
      " 13  HDL1         1346 non-null   int64\n",
      " 14  TG1          1346 non-null   int64\n",
      " 15  EF1          1346 non-null   int64\n",
      " 16  Indication1  1346 non-null   int64\n",
      " 17  TC1          1346 non-null   int64\n",
      " 18  AMI          1346 non-null   int64\n",
      "dtypes: int64(19)\n",
      "memory usage: 210.3 KB\n"
     ]
    }
   ],
   "source": [
    "df_oversampled.info()"
   ]
  },
  {
   "cell_type": "markdown",
   "id": "9a8b60bf",
   "metadata": {},
   "source": [
    "# Accuracy Matrix "
   ]
  },
  {
   "cell_type": "code",
   "execution_count": 182,
   "id": "b8b7ead4",
   "metadata": {},
   "outputs": [
    {
     "data": {
      "text/plain": [
       "['explained_variance',\n",
       " 'r2',\n",
       " 'max_error',\n",
       " 'matthews_corrcoef',\n",
       " 'neg_median_absolute_error',\n",
       " 'neg_mean_absolute_error',\n",
       " 'neg_mean_absolute_percentage_error',\n",
       " 'neg_mean_squared_error',\n",
       " 'neg_mean_squared_log_error',\n",
       " 'neg_root_mean_squared_error',\n",
       " 'neg_mean_poisson_deviance',\n",
       " 'neg_mean_gamma_deviance',\n",
       " 'accuracy',\n",
       " 'top_k_accuracy',\n",
       " 'roc_auc',\n",
       " 'roc_auc_ovr',\n",
       " 'roc_auc_ovo',\n",
       " 'roc_auc_ovr_weighted',\n",
       " 'roc_auc_ovo_weighted',\n",
       " 'balanced_accuracy',\n",
       " 'average_precision',\n",
       " 'neg_log_loss',\n",
       " 'neg_brier_score',\n",
       " 'positive_likelihood_ratio',\n",
       " 'neg_negative_likelihood_ratio',\n",
       " 'adjusted_rand_score',\n",
       " 'rand_score',\n",
       " 'homogeneity_score',\n",
       " 'completeness_score',\n",
       " 'v_measure_score',\n",
       " 'mutual_info_score',\n",
       " 'adjusted_mutual_info_score',\n",
       " 'normalized_mutual_info_score',\n",
       " 'fowlkes_mallows_score',\n",
       " 'precision',\n",
       " 'precision_macro',\n",
       " 'precision_micro',\n",
       " 'precision_samples',\n",
       " 'precision_weighted',\n",
       " 'recall',\n",
       " 'recall_macro',\n",
       " 'recall_micro',\n",
       " 'recall_samples',\n",
       " 'recall_weighted',\n",
       " 'f1',\n",
       " 'f1_macro',\n",
       " 'f1_micro',\n",
       " 'f1_samples',\n",
       " 'f1_weighted',\n",
       " 'jaccard',\n",
       " 'jaccard_macro',\n",
       " 'jaccard_micro',\n",
       " 'jaccard_samples',\n",
       " 'jaccard_weighted']"
      ]
     },
     "execution_count": 182,
     "metadata": {},
     "output_type": "execute_result"
    }
   ],
   "source": [
    "from sklearn.metrics import SCORERS\n",
    "list(SCORERS.keys())"
   ]
  },
  {
   "cell_type": "code",
   "execution_count": null,
   "id": "539f9f6f",
   "metadata": {},
   "outputs": [],
   "source": []
  },
  {
   "cell_type": "markdown",
   "id": "126624a6",
   "metadata": {},
   "source": [
    "# KNN"
   ]
  },
  {
   "cell_type": "code",
   "execution_count": 183,
   "id": "f99d56f6",
   "metadata": {},
   "outputs": [
    {
     "name": "stdout",
     "output_type": "stream",
     "text": [
      "[0.94074074 0.94074074 0.95555556 0.94074074 0.97777778 0.93333333\n",
      " 0.95522388 0.96268657 0.91791045 0.95522388]\n"
     ]
    }
   ],
   "source": [
    "#Indetify the Value of N \n",
    "#for i in range(1,21):\n",
    "knn=KNeighborsClassifier(n_neighbors=5)\n",
    "scores=cross_val_score(knn,x_oversampled_dataframe, y_oversampled_dataframe['AMI'],cv=10,scoring='accuracy')\n",
    "print(scores)"
   ]
  },
  {
   "cell_type": "code",
   "execution_count": 184,
   "id": "8e804b4d",
   "metadata": {},
   "outputs": [
    {
     "name": "stdout",
     "output_type": "stream",
     "text": [
      "Model accuracy : 0.9311377245508982\n",
      "              precision    recall  f1-score   support\n",
      "\n",
      "           0       0.96      0.93      0.94       206\n",
      "           1       0.89      0.94      0.91       128\n",
      "\n",
      "    accuracy                           0.93       334\n",
      "   macro avg       0.92      0.93      0.93       334\n",
      "weighted avg       0.93      0.93      0.93       334\n",
      "\n"
     ]
    },
    {
     "name": "stderr",
     "output_type": "stream",
     "text": [
      "C:\\ProgramData\\anaconda3\\lib\\site-packages\\sklearn\\neighbors\\_classification.py:215: DataConversionWarning: A column-vector y was passed when a 1d array was expected. Please change the shape of y to (n_samples,), for example using ravel().\n",
      "  return self._fit(X, y)\n"
     ]
    }
   ],
   "source": [
    "from sklearn.neighbors import KNeighborsClassifier\n",
    "kNN_MODEL = KNeighborsClassifier(n_neighbors=5)\n",
    "# Fit Model\n",
    "kNN_MODEL.fit(x_train_oversampled, y_train_oversampled)\n",
    "# Predict the test set results\n",
    "y_pred_knn = kNN_MODEL.predict(x_test)\n",
    "print('Model accuracy :',accuracy_score(y_test['AMI'],y_pred_knn))\n",
    "# Look at classification report to evaluate the model\n",
    "print(classification_report(y_test['AMI'], y_pred_knn))"
   ]
  },
  {
   "cell_type": "code",
   "execution_count": 185,
   "id": "86c68cd8",
   "metadata": {},
   "outputs": [
    {
     "data": {
      "text/plain": [
       "0.8558237303404527"
      ]
     },
     "execution_count": 185,
     "metadata": {},
     "output_type": "execute_result"
    }
   ],
   "source": [
    "#Cohen Kappa Score's \n",
    "from sklearn.metrics import cohen_kappa_score\n",
    "cohen_kappa_score(y_test['AMI'],y_pred_knn)"
   ]
  },
  {
   "cell_type": "markdown",
   "id": "bd7c7c26",
   "metadata": {},
   "source": [
    "# CART MODEL "
   ]
  },
  {
   "cell_type": "code",
   "execution_count": 58,
   "id": "00c1d7e4",
   "metadata": {},
   "outputs": [
    {
     "name": "stdout",
     "output_type": "stream",
     "text": [
      "Normal accuracy:  0.9461077844311377\n",
      "              precision    recall  f1-score   support\n",
      "\n",
      "           0       0.92      1.00      0.96       206\n",
      "           1       1.00      0.86      0.92       128\n",
      "\n",
      "    accuracy                           0.95       334\n",
      "   macro avg       0.96      0.93      0.94       334\n",
      "weighted avg       0.95      0.95      0.95       334\n",
      "\n",
      "col_0    0    1\n",
      "AMI            \n",
      "0      206    0\n",
      "1       18  110\n",
      "--------------------------------------------------------\n",
      "\n"
     ]
    }
   ],
   "source": [
    "# Fit the model\n",
    "cart_model = tree.DecisionTreeClassifier(criterion='gini', splitter='best', max_depth=3, class_weight=None, min_samples_leaf=100, random_state=0)\n",
    "clf = cart_model.fit(x_train_oversampled, y_train_oversampled)\n",
    "# Predict class labels on a test data\n",
    "pred_y1_cart = cart_model.predict(x_test)\n",
    "score_CART= accuracy_score(y_test['AMI'], pred_y1_cart)\n",
    "print(\"Normal accuracy: \",score_CART)\n",
    "# Look at classification report to evaluate the model\n",
    "print(classification_report(y_test['AMI'], pred_y1_cart))\n",
    "print(pd.crosstab(y_test['AMI'], pred_y1_cart))\n",
    "print('--------------------------------------------------------')\n",
    "print(\"\")"
   ]
  },
  {
   "cell_type": "code",
   "execution_count": 59,
   "id": "1fc34c2b",
   "metadata": {},
   "outputs": [
    {
     "data": {
      "text/plain": [
       "0.8828800748071378"
      ]
     },
     "execution_count": 59,
     "metadata": {},
     "output_type": "execute_result"
    }
   ],
   "source": [
    "#Cohen Kappa Score's \n",
    "from sklearn.metrics import cohen_kappa_score\n",
    "cohen_kappa_score(y_test['AMI'],pred_y1_cart)"
   ]
  },
  {
   "cell_type": "code",
   "execution_count": 60,
   "id": "057a84d6",
   "metadata": {},
   "outputs": [
    {
     "name": "stdout",
     "output_type": "stream",
     "text": [
      "0.9218914623228225 0.970324106539453\n"
     ]
    }
   ],
   "source": [
    "import numpy as np\n",
    "\n",
    "cart_model.fit(x_train_oversampled, y_train_oversampled)\n",
    "\n",
    "acc_test = cart_model.score(x_test, y_test['AMI'])\n",
    "ci_length = z_value * np.sqrt((acc_test * (1 - acc_test)) / y_test.shape[0])\n",
    "\n",
    "ci_lower = acc_test - ci_length\n",
    "ci_upper = acc_test + ci_length\n",
    "\n",
    "print(ci_lower, ci_upper)"
   ]
  },
  {
   "cell_type": "markdown",
   "id": "a654306c",
   "metadata": {},
   "source": [
    "# Random Forest"
   ]
  },
  {
   "cell_type": "code",
   "execution_count": 75,
   "id": "41f30cad",
   "metadata": {},
   "outputs": [
    {
     "name": "stderr",
     "output_type": "stream",
     "text": [
      "C:\\Users\\USER\\AppData\\Local\\Temp\\ipykernel_7780\\874096169.py:6: DataConversionWarning: A column-vector y was passed when a 1d array was expected. Please change the shape of y to (n_samples,), for example using ravel().\n",
      "  clf = Rm_model.fit(x_train_oversampled, y_train_oversampled)\n"
     ]
    },
    {
     "name": "stdout",
     "output_type": "stream",
     "text": [
      "*************** Evaluation on Test Data ***************\n",
      "Accuracy Score:  0.9461077844311377\n",
      "              precision    recall  f1-score   support\n",
      "\n",
      "           0       0.92      1.00      0.96       206\n",
      "           1       1.00      0.86      0.92       128\n",
      "\n",
      "    accuracy                           0.95       334\n",
      "   macro avg       0.96      0.93      0.94       334\n",
      "weighted avg       0.95      0.95      0.95       334\n",
      "\n"
     ]
    }
   ],
   "source": [
    "from sklearn.ensemble import RandomForestClassifier\n",
    "Rm_model = RandomForestClassifier(criterion='gini',\n",
    "                              min_samples_leaf=200\n",
    "                              )\n",
    "# Fit the model\n",
    "clf = Rm_model.fit(x_train_oversampled, y_train_oversampled)\n",
    "# Predict class labels on a test data\n",
    "y_pred_rm = Rm_model.predict(x_test)\n",
    "print('*************** Evaluation on Test Data ***************')\n",
    "score_te_rm = accuracy_score(y_test['AMI'], y_pred_rm)\n",
    "print('Accuracy Score: ', score_te_rm)\n",
    "# Look at classification report to evaluate the model\n",
    "print(classification_report(y_test['AMI'], y_pred_rm))"
   ]
  },
  {
   "cell_type": "code",
   "execution_count": 62,
   "id": "d28d5781",
   "metadata": {},
   "outputs": [
    {
     "name": "stdout",
     "output_type": "stream",
     "text": [
      "col_0    0    1\n",
      "AMI            \n",
      "0      205    1\n",
      "1       18  110\n"
     ]
    }
   ],
   "source": [
    "print(pd.crosstab(y_test['AMI'], y_pred_rm))"
   ]
  },
  {
   "cell_type": "code",
   "execution_count": 63,
   "id": "b69af8d5",
   "metadata": {},
   "outputs": [],
   "source": [
    "X_test_oversampled=pd.DataFrame(X_test)"
   ]
  },
  {
   "cell_type": "code",
   "execution_count": 64,
   "id": "15586666",
   "metadata": {},
   "outputs": [
    {
     "data": {
      "text/plain": [
       "0    223\n",
       "1    111\n",
       "dtype: int64"
      ]
     },
     "execution_count": 64,
     "metadata": {},
     "output_type": "execute_result"
    }
   ],
   "source": [
    "y_pred_rm=pd.DataFrame(y_pred_rm)\n",
    "y_pred_rm.value_counts()"
   ]
  },
  {
   "cell_type": "code",
   "execution_count": 65,
   "id": "db80244b",
   "metadata": {},
   "outputs": [
    {
     "data": {
      "text/plain": [
       "0.8765609803540167"
      ]
     },
     "execution_count": 65,
     "metadata": {},
     "output_type": "execute_result"
    }
   ],
   "source": [
    "#Cohen Kappa Score's \n",
    "from sklearn.metrics import cohen_kappa_score\n",
    "cohen_kappa_score(y_test,y_pred_rm)"
   ]
  },
  {
   "cell_type": "code",
   "execution_count": 66,
   "id": "914b353b",
   "metadata": {},
   "outputs": [
    {
     "name": "stdout",
     "output_type": "stream",
     "text": [
      "0.9218914623228225 0.970324106539453\n"
     ]
    },
    {
     "name": "stderr",
     "output_type": "stream",
     "text": [
      "C:\\Users\\USER\\AppData\\Local\\Temp\\ipykernel_7780\\3128366393.py:3: DataConversionWarning: A column-vector y was passed when a 1d array was expected. Please change the shape of y to (n_samples,), for example using ravel().\n",
      "  Rm_model.fit(x_train_oversampled, y_train_oversampled)\n"
     ]
    }
   ],
   "source": [
    "import numpy as np\n",
    "\n",
    "Rm_model.fit(x_train_oversampled, y_train_oversampled)\n",
    "\n",
    "acc_test = Rm_model.score(x_test, y_test['AMI'])\n",
    "ci_length = z_value * np.sqrt((acc_test * (1 - acc_test)) / y_test.shape[0])\n",
    "\n",
    "ci_lower = acc_test - ci_length\n",
    "ci_upper = acc_test + ci_length\n",
    "\n",
    "print(ci_lower, ci_upper)"
   ]
  },
  {
   "cell_type": "markdown",
   "id": "650548cb",
   "metadata": {},
   "source": [
    "# SVM"
   ]
  },
  {
   "cell_type": "code",
   "execution_count": 67,
   "id": "71105332",
   "metadata": {
    "scrolled": true
   },
   "outputs": [
    {
     "name": "stdout",
     "output_type": "stream",
     "text": [
      "Accuracy Score:  0.9491017964071856\n",
      "              precision    recall  f1-score   support\n",
      "\n",
      "           0       0.97      0.95      0.96       206\n",
      "           1       0.92      0.95      0.93       128\n",
      "\n",
      "    accuracy                           0.95       334\n",
      "   macro avg       0.94      0.95      0.95       334\n",
      "weighted avg       0.95      0.95      0.95       334\n",
      "\n",
      "col_0    0    1\n",
      "AMI            \n",
      "0      195   11\n",
      "1        6  122\n"
     ]
    },
    {
     "name": "stderr",
     "output_type": "stream",
     "text": [
      "C:\\ProgramData\\anaconda3\\lib\\site-packages\\sklearn\\utils\\validation.py:1143: DataConversionWarning: A column-vector y was passed when a 1d array was expected. Please change the shape of y to (n_samples, ), for example using ravel().\n",
      "  y = column_or_1d(y, warn=True)\n"
     ]
    }
   ],
   "source": [
    "from sklearn.svm import SVC\n",
    "svm_model = SVC(kernel=\"linear\", probability=True)\n",
    "clf_svm = svm_model.fit(x_train_oversampled, y_train_oversampled)\n",
    "pred_y_svm = clf_svm.predict(x_test)\n",
    "from sklearn.metrics import accuracy_score\n",
    "score_svm = accuracy_score(y_test['AMI'], pred_y_svm)\n",
    "print('Accuracy Score: ', score_svm)\n",
    "# Look at classification report to evaluate the model\n",
    "print(classification_report(y_test, pred_y_svm))\n",
    "print(pd.crosstab(y_test['AMI'], pred_y_svm))"
   ]
  },
  {
   "cell_type": "code",
   "execution_count": 68,
   "id": "091ab8db",
   "metadata": {},
   "outputs": [
    {
     "data": {
      "text/plain": [
       "0.893122011820954"
      ]
     },
     "execution_count": 68,
     "metadata": {},
     "output_type": "execute_result"
    }
   ],
   "source": [
    "#Cohen Kappa Score's \n",
    "from sklearn.metrics import cohen_kappa_score\n",
    "cohen_kappa_score(y_test,pred_y_svm)"
   ]
  },
  {
   "cell_type": "code",
   "execution_count": 69,
   "id": "f83bcb87",
   "metadata": {},
   "outputs": [
    {
     "name": "stdout",
     "output_type": "stream",
     "text": [
      "0.9255305535430558 0.9726730392713154\n"
     ]
    },
    {
     "name": "stderr",
     "output_type": "stream",
     "text": [
      "C:\\ProgramData\\anaconda3\\lib\\site-packages\\sklearn\\utils\\validation.py:1143: DataConversionWarning: A column-vector y was passed when a 1d array was expected. Please change the shape of y to (n_samples, ), for example using ravel().\n",
      "  y = column_or_1d(y, warn=True)\n"
     ]
    }
   ],
   "source": [
    "import numpy as np\n",
    "\n",
    "svm_model.fit(x_train_oversampled, y_train_oversampled)\n",
    "\n",
    "acc_test = svm_model.score(x_test, y_test['AMI'])\n",
    "ci_length = z_value * np.sqrt((acc_test * (1 - acc_test)) / y_test.shape[0])\n",
    "\n",
    "ci_lower = acc_test - ci_length\n",
    "ci_upper = acc_test + ci_length\n",
    "\n",
    "print(ci_lower, ci_upper)"
   ]
  },
  {
   "cell_type": "markdown",
   "id": "c7b96095",
   "metadata": {},
   "source": [
    "# Naive Bayes"
   ]
  },
  {
   "cell_type": "code",
   "execution_count": 70,
   "id": "4b44b9c6",
   "metadata": {},
   "outputs": [
    {
     "name": "stdout",
     "output_type": "stream",
     "text": [
      "Normal accuracy:  0.9431137724550899\n",
      "              precision    recall  f1-score   support\n",
      "\n",
      "           0       0.96      0.95      0.95       206\n",
      "           1       0.92      0.93      0.93       128\n",
      "\n",
      "    accuracy                           0.94       334\n",
      "   macro avg       0.94      0.94      0.94       334\n",
      "weighted avg       0.94      0.94      0.94       334\n",
      "\n",
      "col_0    0    1\n",
      "AMI            \n",
      "0      196   10\n",
      "1        9  119\n"
     ]
    },
    {
     "name": "stderr",
     "output_type": "stream",
     "text": [
      "C:\\ProgramData\\anaconda3\\lib\\site-packages\\sklearn\\utils\\validation.py:1143: DataConversionWarning: A column-vector y was passed when a 1d array was expected. Please change the shape of y to (n_samples, ), for example using ravel().\n",
      "  y = column_or_1d(y, warn=True)\n"
     ]
    }
   ],
   "source": [
    "from sklearn.naive_bayes import GaussianNB, MultinomialNB ,BernoulliNB\n",
    "NB_model=BernoulliNB()\n",
    "\n",
    "NB_model.fit(x_train_oversampled, y_train_oversampled)\n",
    "\n",
    "# Multinomial CLassifier\n",
    "# Predict the test set results\n",
    "pred_y_Naive_bayes= NB_model.predict(x_test)\n",
    "print(\"Normal accuracy: \", accuracy_score(y_test, pred_y_Naive_bayes))\n",
    "print(classification_report(y_test,pred_y_Naive_bayes))\n",
    "print(pd.crosstab(y_test['AMI'], pred_y_Naive_bayes))"
   ]
  },
  {
   "cell_type": "code",
   "execution_count": 71,
   "id": "2d2636ec",
   "metadata": {},
   "outputs": [
    {
     "data": {
      "text/plain": [
       "0.8798424660127997"
      ]
     },
     "execution_count": 71,
     "metadata": {},
     "output_type": "execute_result"
    }
   ],
   "source": [
    "#Cohen Kappa Score's \n",
    "from sklearn.metrics import cohen_kappa_score\n",
    "cohen_kappa_score(y_test,pred_y_Naive_bayes)"
   ]
  },
  {
   "cell_type": "code",
   "execution_count": 72,
   "id": "327e1007",
   "metadata": {},
   "outputs": [
    {
     "name": "stdout",
     "output_type": "stream",
     "text": [
      "0.9182732647380176 0.9679542801721621\n"
     ]
    },
    {
     "name": "stderr",
     "output_type": "stream",
     "text": [
      "C:\\ProgramData\\anaconda3\\lib\\site-packages\\sklearn\\utils\\validation.py:1143: DataConversionWarning: A column-vector y was passed when a 1d array was expected. Please change the shape of y to (n_samples, ), for example using ravel().\n",
      "  y = column_or_1d(y, warn=True)\n"
     ]
    }
   ],
   "source": [
    "import numpy as np\n",
    "\n",
    "NB_model.fit(x_train_oversampled, y_train_oversampled)\n",
    "\n",
    "acc_test = NB_model.score(x_test, y_test['AMI'])\n",
    "ci_length = z_value * np.sqrt((acc_test * (1 - acc_test)) / y_test.shape[0])\n",
    "\n",
    "ci_lower = acc_test - ci_length\n",
    "ci_upper = acc_test + ci_length\n",
    "\n",
    "print(ci_lower, ci_upper)"
   ]
  },
  {
   "cell_type": "markdown",
   "id": "0dea354b",
   "metadata": {},
   "source": [
    "# ROC Curve"
   ]
  },
  {
   "cell_type": "code",
   "execution_count": null,
   "id": "0983692b",
   "metadata": {},
   "outputs": [],
   "source": [
    "import numpy as np\n",
    "import plotly.graph_objects as go\n",
    "from sklearn.linear_model import LogisticRegression\n",
    "from sklearn.svm import SVC\n",
    "from sklearn.metrics import roc_curve, roc_auc_score\n",
    "from sklearn.preprocessing import StandardScaler\n",
    "\n",
    "# Assuming that X_train, X_test, y_train, y_test are already defined\n",
    "\n",
    "# Random forest model\n",
    "Rm_scores = Rm_model.predict_proba(x_test)[:,1]\n",
    "\n",
    "# SVM model\n",
    "#clf_svm.predict(X_test)\n",
    "svm_scores = clf_svm.predict_proba(x_test)[:,1]\n",
    "\n",
    "# kNN_MODEL\n",
    "kNN_scores = kNN_MODEL.predict_proba(x_test)[:,1]\n",
    "\n",
    "#Cart Model\n",
    "cart_scores = cart_model.predict_proba(x_test)[:,1]\n",
    "\n",
    "#Naive Bayes ( Bernouili)\n",
    "NB_scores = NB_model.predict_proba(x_test)[:,1]\n",
    "\n",
    "\n",
    "\n",
    "# Generate ROC curve data for Random forest regression model\n",
    "rm_fpr, rm_tpr, rm_thresholds = roc_curve(y_test, Rm_scores)\n",
    "rm_auc = roc_auc_score(y_test, Rm_scores)\n",
    "\n",
    "# Generate ROC curve data for SVM model\n",
    "svm_fpr, svm_tpr, svm_thresholds = roc_curve(y_test, svm_scores)\n",
    "svm_auc = roc_auc_score(y_test, svm_scores)\n",
    "\n",
    "# Generate ROC curve data for CART model\n",
    "cart_fpr, cart_tpr, cart_thresholds = roc_curve(y_test, cart_scores)\n",
    "cart_auc = roc_auc_score(y_test, cart_scores)\n",
    "\n",
    "# Generate ROC curve data for Naive bayes model\n",
    "NB_fpr, NB_tpr, NB_thresholds = roc_curve(y_test, NB_scores)\n",
    "NB_auc = roc_auc_score(y_test, NB_scores)\n",
    "\n",
    "# Generate ROC curve data for Knn model\n",
    "Knn_fpr, Knn_tpr, Knn_thresholds = roc_curve(y_test, kNN_scores)\n",
    "Knn_auc = roc_auc_score(y_test, kNN_scores)\n",
    "\n",
    "\n",
    "# Generate a trace for the Random Forest ROC curve\n",
    "trace0 = go.Scatter(\n",
    "    x=rm_fpr,\n",
    "    y=rm_tpr,\n",
    "    mode='lines',\n",
    "    name=f'Random Forest(Area = {rm_auc:.2f})'\n",
    ")\n",
    "\n",
    "#Generate a trace for the SVM ROC curve\n",
    "trace1 = go.Scatter(\n",
    "    x=svm_fpr,\n",
    "    y=svm_tpr,\n",
    "    mode='lines',\n",
    "    name=f'SVM (Area = {svm_auc:.2f})'\n",
    "\n",
    ")\n",
    "\n",
    "\n",
    "# Generate a trace for the KNN ROC curve\n",
    "trace2 = go.Scatter(\n",
    "    x=Knn_fpr,\n",
    "    y=Knn_tpr,\n",
    "    mode='lines',\n",
    "    name=f'KNN (Area = {Knn_auc:.2f})'\n",
    ")\n",
    "\n",
    "# Generate a trace for the Cart ROC curve\n",
    "trace3 = go.Scatter(\n",
    "    x=cart_fpr,\n",
    "    y=cart_tpr,\n",
    "    mode='lines',\n",
    "    name=f'CART (Area = {cart_auc:.2f})'\n",
    ")\n",
    "\n",
    "# Generate a trace for the Naive bayes  ROC curve\n",
    "'''trace4 = go.Scatter(\n",
    "    x=NB_fpr,\n",
    "    y=NB_tpr,\n",
    "    mode='lines',\n",
    "    name=f'Naive Baiyes (Area = {NB_auc:.2f})'\n",
    ")\n",
    "'''\n",
    "\n",
    "# Diagonal line\n",
    "trace5 = go.Scatter(\n",
    "    x=[0, 1], \n",
    "    y=[0, 1], \n",
    "    mode='lines', \n",
    "    name='Random (Area = 0.5)', \n",
    "    line=dict(dash='dash')\n",
    ")\n",
    "\n",
    "data = [trace0,trace1,trace2,trace3,trace5]\n",
    "\n",
    "# Define layout with square aspect ratio\n",
    "layout = go.Layout(\n",
    "    title='Receiver Operating Characteristic',\n",
    "    xaxis=dict(title='False Positive Rate'),\n",
    "    yaxis=dict(title='True Positive Rate'),\n",
    "    autosize=False,\n",
    "    width=800,\n",
    "    height=800,\n",
    "    showlegend=True\n",
    ")\n",
    "\n",
    "# Define figure and add data\n",
    "fig = go.Figure(data=data, layout=layout)\n",
    "\n",
    "# Show figure\n",
    "fig.show()\n"
   ]
  },
  {
   "cell_type": "markdown",
   "id": "2a3d299f",
   "metadata": {},
   "source": [
    "# Bayesian Statistical Model "
   ]
  },
  {
   "cell_type": "markdown",
   "id": "c4956db1",
   "metadata": {},
   "source": [
    "# Dataset for this type of models Use df (with balanced the dataset) "
   ]
  },
  {
   "cell_type": "code",
   "execution_count": null,
   "id": "c80b4549",
   "metadata": {},
   "outputs": [],
   "source": [
    "df_oversampled.info()"
   ]
  },
  {
   "cell_type": "code",
   "execution_count": null,
   "id": "13ad6890",
   "metadata": {},
   "outputs": [],
   "source": [
    "df.columns.values"
   ]
  },
  {
   "cell_type": "code",
   "execution_count": null,
   "id": "c4401a50",
   "metadata": {},
   "outputs": [],
   "source": [
    "from sklearn.svm import SVC\n",
    "svm_model = SVC(kernel=\"linear\", probability=True)\n",
    "clf_svm = svm_model.fit(x_train_oversampled, y_train_oversampled)\n",
    "pred_y_svm = clf_svm.predict(x_test)\n",
    "from sklearn.metrics import accuracy_score\n",
    "score_svm = accuracy_score(y_test['AMI'], pred_y_svm)\n",
    "print('Accuracy Score: ', score_svm)\n",
    "# Look at classification report to evaluate the model\n",
    "print(classification_report(y_test, pred_y_svm))\n",
    "print(pd.crosstab(y_test['AMI'], pred_y_svm))"
   ]
  },
  {
   "cell_type": "code",
   "execution_count": null,
   "id": "551f5d54",
   "metadata": {},
   "outputs": [],
   "source": [
    "import statsmodels.api as sm\n",
    "import statsmodels.formula.api as smf\n",
    "\n",
    "glm_model = smf.glm(formula = \"AMI ~ HTN + DM + SMK + DL + FH + Sex + NSTEMI + SA + UA + HOCABG + HOPCI + Age_Group + LDL1 + HDL1 + TG1 + EF1 + Indication1 + TC1 \", \n",
    "                data = df_oversampled, \n",
    "                family = sm.families.Binomial())\n",
    "\n",
    "# Fit the model\n",
    "result = glm_model.fit()\n",
    "\n",
    "# Display and interpret results\n",
    "\n",
    "print(result.summary())"
   ]
  },
  {
   "cell_type": "code",
   "execution_count": null,
   "id": "88e4af25",
   "metadata": {},
   "outputs": [],
   "source": [
    "# Estimated default probabilities\n",
    "predictions = result.predict()"
   ]
  },
  {
   "cell_type": "code",
   "execution_count": null,
   "id": "b6e9444e",
   "metadata": {},
   "outputs": [],
   "source": [
    "glm_y_pred=pd.DataFrame(predictions)\n",
    "glm_y_pred=glm_y_pred.round()\n",
    "glm_y_pred=glm_y_pred.astype('int')"
   ]
  },
  {
   "cell_type": "code",
   "execution_count": null,
   "id": "92bd1f01",
   "metadata": {},
   "outputs": [],
   "source": [
    "glm_y_pred.value_counts()"
   ]
  },
  {
   "cell_type": "code",
   "execution_count": null,
   "id": "217aa53b",
   "metadata": {},
   "outputs": [],
   "source": [
    "print(\"Normal accuracy: \", accuracy_score(df_oversampled['AMI'], glm_y_pred))\n",
    "print(classification_report(df_oversampled['AMI'], glm_y_pred))"
   ]
  },
  {
   "cell_type": "code",
   "execution_count": null,
   "id": "23e0fca7",
   "metadata": {},
   "outputs": [],
   "source": [
    "glm_y_pred=glm_y_pred.values.flatten()\n",
    "pd.crosstab(df_oversampled['AMI'],glm_y_pred)"
   ]
  },
  {
   "cell_type": "code",
   "execution_count": null,
   "id": "eb5e7609",
   "metadata": {},
   "outputs": [],
   "source": [
    "#Cohen Kappa Score's \n",
    "from sklearn.metrics import cohen_kappa_score\n",
    "cohen_kappa_score(df_oversampled['AMI'],glm_y_pred)"
   ]
  },
  {
   "cell_type": "markdown",
   "id": "af22c526",
   "metadata": {},
   "source": [
    "# Bayesian GLM"
   ]
  },
  {
   "cell_type": "code",
   "execution_count": null,
   "id": "8ad9c697",
   "metadata": {},
   "outputs": [],
   "source": [
    "# Pandas and numpy for data manipulation\n",
    "import pandas as pd\n",
    "import numpy as np\n",
    "np.random.seed(42)\n",
    "\n",
    " \n",
    "# Matplotlib and seaborn for plotting\n",
    "import matplotlib.pyplot as plt\n",
    "%matplotlib inline\n",
    "\n",
    "import matplotlib\n",
    "matplotlib.rcParams['font.size'] = 16\n",
    "matplotlib.rcParams['figure.figsize'] = (9, 9)\n",
    "\n",
    "import seaborn as sns\n",
    "\n",
    "from IPython.core.pylabtools import figsize\n",
    "\n",
    "# Scipy helper functions\n",
    "from scipy.stats import percentileofscore\n",
    "from scipy import stats"
   ]
  },
  {
   "cell_type": "code",
   "execution_count": null,
   "id": "1817c8a7",
   "metadata": {},
   "outputs": [],
   "source": [
    "# Standard ML Models for comparison\n",
    "from sklearn.linear_model import LinearRegression\n",
    "from sklearn.linear_model import ElasticNet\n",
    "from sklearn.ensemble import RandomForestRegressor\n",
    "from sklearn.ensemble import ExtraTreesRegressor\n",
    "from sklearn.ensemble import GradientBoostingRegressor\n",
    "from sklearn.svm import SVR\n",
    "\n",
    "# Splitting data into training/testing\n",
    "from sklearn.model_selection import train_test_split\n",
    "from sklearn.preprocessing import MinMaxScaler\n",
    "\n",
    "# Metrics\n",
    "from sklearn.metrics import mean_squared_error, mean_absolute_error, median_absolute_error\n",
    "\n",
    "# Distributions\n",
    "import scipy"
   ]
  },
  {
   "cell_type": "code",
   "execution_count": null,
   "id": "7d61abe6",
   "metadata": {},
   "outputs": [],
   "source": [
    "from sklearn.model_selection import train_test_split\n",
    "x_Bayesian= df_oversampled.drop('AMI',axis=1)\n",
    "y_Bayesian = df_oversampled['AMI']\n",
    "X_train_Bayesian, X_test_Bayesian, y_train_Bayesian, y_test_Bayesian = train_test_split(X_Bayesian, y_Bayesian, test_size=0.3, random_state=0)"
   ]
  },
  {
   "cell_type": "code",
   "execution_count": null,
   "id": "2312c64b",
   "metadata": {},
   "outputs": [],
   "source": [
    "# PyMC3 for Bayesian Inference\n",
    "import pymc3 as pm"
   ]
  },
  {
   "cell_type": "code",
   "execution_count": null,
   "id": "d30ec32e",
   "metadata": {},
   "outputs": [],
   "source": [
    "# Formula for Bayesian Linear Regression (follows R formula syntax\n",
    "formula = df['AMI'] ~ + ' + '.join(['%s' % variable for variable in X_train_Bayesian.columns[1:]])\n",
    "formula"
   ]
  },
  {
   "cell_type": "code",
   "execution_count": null,
   "id": "b15f9340",
   "metadata": {},
   "outputs": [],
   "source": [
    "pip install bambi"
   ]
  },
  {
   "cell_type": "code",
   "execution_count": null,
   "id": "3ee55182",
   "metadata": {},
   "outputs": [],
   "source": [
    "import arviz as az\n",
    "import bambi as bmb\n",
    "import pandas as pd\n",
    "\n",
    "# Initialize the fixed effects only model\n",
    "model = bmb.Model(\"AMI ~ HTN + DM + SMK + DL + FH + Sex + NSTEMI + SA + UA + HOCABG + HOPCI + Age_Group + LDL1 + HDL1 + TG1 + EF1 + Indication1 + TC1 \", \n",
    "                data = df_oversampled)\n",
    "\n",
    "# Fit the model using 1000 on each of 4 chains\n",
    "results = model.fit(draws=1000, chains=4)\n",
    "\n",
    "# Use ArviZ to plot the results\n",
    "az.plot_trace(results)\n",
    "\n",
    "# Key summary and diagnostic info on the model parameters\n",
    "az.summary(results)"
   ]
  },
  {
   "cell_type": "code",
   "execution_count": null,
   "id": "f2406a1e",
   "metadata": {},
   "outputs": [],
   "source": [
    "'''!pip install --upgrade pip\n",
    "!pip install --upgrade numpy'''"
   ]
  },
  {
   "cell_type": "code",
   "execution_count": null,
   "id": "7e52490e",
   "metadata": {},
   "outputs": [],
   "source": [
    "pip install numpy==1.23.5\n"
   ]
  },
  {
   "cell_type": "code",
   "execution_count": null,
   "id": "2963fc5e",
   "metadata": {},
   "outputs": [],
   "source": [
    "AMI=df_oversampled['AMI']"
   ]
  },
  {
   "cell_type": "code",
   "execution_count": null,
   "id": "f4c4f63f",
   "metadata": {},
   "outputs": [],
   "source": [
    "\n",
    "formula = \"AMI ~ HTN + DM + SMK + DL + FH + Sex + NSTEMI + SA + UA + HOCABG + HOPCI + Age_Group + LDL1 + HDL1 + TG1 + EF1 + Indication1 + TC1 \", \n",
    "                "
   ]
  },
  {
   "cell_type": "code",
   "execution_count": null,
   "id": "77bfc7ac",
   "metadata": {},
   "outputs": [],
   "source": [
    "# Context for the model\n",
    "with pm.Model() as normal_model:\n",
    "    \n",
    "    # The prior for the model parameters will be a normal distribution\n",
    "    family = pm.glm.families.Normal()\n",
    "    \n",
    "    # Creating the model requires a formula and data (and optionally a family)\n",
    "    pm.GLM.from_formula(formula, data = X_train_Bayesian, family = family)\n",
    "    \n",
    "    # Perform Markov Chain Monte Carlo sampling\n",
    "    normal_trace = pm.sample(draws=2000, chains = 2, tune = 500, njobs=-1)"
   ]
  },
  {
   "cell_type": "code",
   "execution_count": null,
   "id": "5b48b855",
   "metadata": {},
   "outputs": [],
   "source": [
    "!pip install bambi"
   ]
  },
  {
   "cell_type": "code",
   "execution_count": null,
   "id": "5be7b083",
   "metadata": {},
   "outputs": [],
   "source": [
    "!pip install git+https://github.com/bambinos/bambi.git"
   ]
  },
  {
   "cell_type": "code",
   "execution_count": null,
   "id": "9fa470c3",
   "metadata": {},
   "outputs": [],
   "source": [
    "import arviz as az\n",
    "import bambi as bmb\n",
    "import matplotlib.pyplot as plt\n",
    "import numpy as np\n",
    "import pandas as pd\n",
    "import pymc3 as pm\n",
    "\n",
    "from pymc3 import HalfCauchy, Model, Normal, glm, plot_posterior_predictive_glm, sample\n",
    "\n",
    "print(f\"Running on PyMC3 v{pm.__version__}\")"
   ]
  },
  {
   "cell_type": "code",
   "execution_count": null,
   "id": "b64d8a6f",
   "metadata": {},
   "outputs": [],
   "source": [
    "from sklearn.model_selection import train_test_split\n",
    "x_Bayesian= df_oversampled.drop('AMI',axis=1)\n",
    "y_Bayesian = df_oversampled['AMI']\n",
    "X_train_Bayesian, X_test_Bayesian, y_train_Bayesian, y_test_Bayesian = train_test_split(X_Bayesian, y_Bayesian, test_size=0.3, random_state=0)"
   ]
  },
  {
   "cell_type": "code",
   "execution_count": null,
   "id": "6b28e330",
   "metadata": {},
   "outputs": [],
   "source": [
    "y_Bayesian=pd.DataFrame(y_Bayesian)"
   ]
  },
  {
   "cell_type": "code",
   "execution_count": null,
   "id": "e9ddc46b",
   "metadata": {},
   "outputs": [],
   "source": [
    "with Model() as model:  # model specifications in PyMC3 are wrapped in a with-statement\n",
    "    # Define priors\n",
    "    sigma = HalfCauchy(\"sigma\", beta=10, testval=1.0)\n",
    "    intercept = Normal(\"Intercept\", 0, sigma=20)\n",
    "    x_coeff = Normal(\"x_Bayesian\", 0, sigma=20)\n",
    "\n",
    "    # Define likelihood  (1,980) (980,18) \n",
    "    likelihood = Normal(\"y_Bayesian\", mu=intercept + x_coeff * x_Bayesian, sigma=sigma, observed=y_Bayesian)\n",
    "\n",
    "    # Inference!\n",
    "    # draw 3000 posterior samples using NUTS sampling\n",
    "    trace = sample(3000, return_inferencedata=True)"
   ]
  },
  {
   "cell_type": "code",
   "execution_count": null,
   "id": "1f0101a2",
   "metadata": {},
   "outputs": [],
   "source": [
    "model = bmb.Model(\"AMI ~ HTN + DM + SMK + DL + FH + Sex + NSTEMI + SA + UA + HOCABG + HOPCI + Age_Group + LDL1 + HDL1 + TG1 + EF1 + Indication1 + TC1 \", \n",
    "                data = df_oversampled)\n",
    "trace = model.fit(draws=3000)"
   ]
  },
  {
   "cell_type": "markdown",
   "id": "ebdf4627",
   "metadata": {},
   "source": [
    "# Roc Curve"
   ]
  },
  {
   "cell_type": "code",
   "execution_count": null,
   "id": "d63882e5",
   "metadata": {},
   "outputs": [],
   "source": [
    "import numpy as np\n",
    "import plotly.graph_objects as go\n",
    "from sklearn.linear_model import LogisticRegression\n",
    "from sklearn.svm import SVC\n",
    "from sklearn.metrics import roc_curve, roc_auc_score\n",
    "from sklearn.preprocessing import StandardScaler\n",
    "\n",
    "# Assuming that X_train, X_test, y_train, y_test are already defined\n",
    "\n",
    "# Random forest model\n",
    "Rm_scores = result.predict_proba(X_test_MinMaxScaller)[:,1]\n",
    "\n",
    "# Generate ROC curve data for Random forest regression model\n",
    "rm_fpr, rm_tpr, rm_thresholds = roc_curve(y_test_MinMaxScaller, Rm_scores)\n",
    "rm_auc = roc_auc_score(X_test_MinMaxScaller, Rm_scores)\n",
    "\n",
    "\n",
    "# Generate a trace for the Naive bayes  ROC curve\n",
    "trace4 = go.Scatter(\n",
    "    x=NB_fpr,\n",
    "    y=NB_tpr,\n",
    "    mode='lines',\n",
    "    name=f'Naive Baiyes (Area = {NB_auc:.2f})'\n",
    ")\n",
    "\n",
    "\n",
    "# Diagonal line\n",
    "trace5 = go.Scatter(\n",
    "    x=[0, 1], \n",
    "    y=[0, 1], \n",
    "    mode='lines', \n",
    "    name='Random (Area = 0.5)', \n",
    "    line=dict(dash='dash')\n",
    ")\n",
    "\n",
    "data = [trace0]\n",
    "\n",
    "# Define layout with square aspect ratio\n",
    "layout = go.Layout(\n",
    "    title='Receiver Operating Characteristic',\n",
    "    xaxis=dict(title='False Positive Rate'),\n",
    "    yaxis=dict(title='True Positive Rate'),\n",
    "    autosize=False,\n",
    "    width=800,\n",
    "    height=800,\n",
    "    showlegend=True\n",
    ")\n",
    "\n",
    "# Define figure and add data\n",
    "fig = go.Figure(data=data, layout=layout)\n",
    "\n",
    "# Show figure\n",
    "fig.show()"
   ]
  },
  {
   "cell_type": "code",
   "execution_count": null,
   "id": "cbf21d80",
   "metadata": {},
   "outputs": [],
   "source": [
    "glm.fit <- glm(Severity_Binary ~ Side + State + Timezone + Temperature.F. + Wind_Chill.F. + Humidity... + Pressure.in. + Visibility.mi. + Wind_Direction + Wind_Speed.mph. + Precipitation.in. + Amenity + Bump + Crossing + Give_Way + Junction + No_Exit + Railway + Station + Stop + Traffic_Calming + Traffic_Signal + Sunrise_Sunset' , data = train_data, family = binomial)\n",
    "\n",
    "glm.probs <- predict(glm.fit,type = \"response\")\n",
    "\n",
    "glm.probs = predict(glm.fit, newdata = test_data, type = \"response\")\n",
    "glm.pred = ifelse(glm.probs > 0.5, \"1\", \"0\")"
   ]
  },
  {
   "cell_type": "markdown",
   "id": "08b55b32",
   "metadata": {},
   "source": [
    "https://www.pymc.io/projects/docs/en/v3.11.4/pymc-examples/examples/generalized_linear_models/GLM-linear.html"
   ]
  },
  {
   "cell_type": "code",
   "execution_count": null,
   "id": "e49d1247",
   "metadata": {},
   "outputs": [],
   "source": []
  },
  {
   "cell_type": "code",
   "execution_count": null,
   "id": "14366c11",
   "metadata": {},
   "outputs": [],
   "source": []
  },
  {
   "cell_type": "code",
   "execution_count": null,
   "id": "7bc21d0a",
   "metadata": {},
   "outputs": [],
   "source": []
  },
  {
   "cell_type": "code",
   "execution_count": null,
   "id": "611ee0c4",
   "metadata": {},
   "outputs": [],
   "source": []
  },
  {
   "cell_type": "code",
   "execution_count": null,
   "id": "3d432707",
   "metadata": {},
   "outputs": [],
   "source": []
  },
  {
   "cell_type": "code",
   "execution_count": null,
   "id": "8148d52c",
   "metadata": {},
   "outputs": [],
   "source": []
  },
  {
   "cell_type": "code",
   "execution_count": null,
   "id": "cfbd15e6",
   "metadata": {},
   "outputs": [],
   "source": []
  },
  {
   "cell_type": "code",
   "execution_count": null,
   "id": "787051fc",
   "metadata": {},
   "outputs": [],
   "source": []
  },
  {
   "cell_type": "code",
   "execution_count": null,
   "id": "a18ddb3b",
   "metadata": {},
   "outputs": [],
   "source": []
  },
  {
   "cell_type": "code",
   "execution_count": null,
   "id": "e9cf9141",
   "metadata": {},
   "outputs": [],
   "source": []
  },
  {
   "cell_type": "code",
   "execution_count": null,
   "id": "d5bae593",
   "metadata": {},
   "outputs": [],
   "source": []
  },
  {
   "cell_type": "code",
   "execution_count": null,
   "id": "b11bd743",
   "metadata": {},
   "outputs": [],
   "source": []
  },
  {
   "cell_type": "code",
   "execution_count": null,
   "id": "6e304a58",
   "metadata": {},
   "outputs": [],
   "source": []
  },
  {
   "cell_type": "code",
   "execution_count": null,
   "id": "b54b4e4b",
   "metadata": {},
   "outputs": [],
   "source": []
  },
  {
   "cell_type": "code",
   "execution_count": null,
   "id": "626ab945",
   "metadata": {},
   "outputs": [],
   "source": []
  },
  {
   "cell_type": "code",
   "execution_count": null,
   "id": "7f4699e7",
   "metadata": {},
   "outputs": [],
   "source": []
  },
  {
   "cell_type": "code",
   "execution_count": null,
   "id": "e4ec9fea",
   "metadata": {},
   "outputs": [],
   "source": []
  },
  {
   "cell_type": "code",
   "execution_count": null,
   "id": "f6e147e5",
   "metadata": {},
   "outputs": [],
   "source": []
  },
  {
   "cell_type": "code",
   "execution_count": null,
   "id": "7eb986ff",
   "metadata": {},
   "outputs": [],
   "source": []
  },
  {
   "cell_type": "code",
   "execution_count": null,
   "id": "6c16a4b1",
   "metadata": {},
   "outputs": [],
   "source": []
  },
  {
   "cell_type": "code",
   "execution_count": null,
   "id": "2231ee8a",
   "metadata": {},
   "outputs": [],
   "source": []
  },
  {
   "cell_type": "code",
   "execution_count": null,
   "id": "4a35c8e0",
   "metadata": {},
   "outputs": [],
   "source": []
  },
  {
   "cell_type": "code",
   "execution_count": null,
   "id": "12f17cc2",
   "metadata": {},
   "outputs": [],
   "source": []
  },
  {
   "cell_type": "code",
   "execution_count": null,
   "id": "f7328642",
   "metadata": {},
   "outputs": [],
   "source": []
  },
  {
   "cell_type": "code",
   "execution_count": null,
   "id": "3a9fd8a8",
   "metadata": {},
   "outputs": [],
   "source": []
  },
  {
   "cell_type": "code",
   "execution_count": null,
   "id": "f6f2a4ee",
   "metadata": {},
   "outputs": [],
   "source": []
  },
  {
   "cell_type": "code",
   "execution_count": null,
   "id": "5fc5000d",
   "metadata": {},
   "outputs": [],
   "source": []
  },
  {
   "cell_type": "code",
   "execution_count": null,
   "id": "b7f70cb7",
   "metadata": {},
   "outputs": [],
   "source": []
  },
  {
   "cell_type": "code",
   "execution_count": null,
   "id": "5cf12482",
   "metadata": {},
   "outputs": [],
   "source": []
  },
  {
   "cell_type": "code",
   "execution_count": null,
   "id": "25e28dec",
   "metadata": {},
   "outputs": [],
   "source": []
  },
  {
   "cell_type": "code",
   "execution_count": null,
   "id": "c288748e",
   "metadata": {},
   "outputs": [],
   "source": []
  },
  {
   "cell_type": "code",
   "execution_count": null,
   "id": "34cd532f",
   "metadata": {},
   "outputs": [],
   "source": []
  },
  {
   "cell_type": "code",
   "execution_count": null,
   "id": "60f0936a",
   "metadata": {},
   "outputs": [],
   "source": []
  },
  {
   "cell_type": "code",
   "execution_count": null,
   "id": "afc354b8",
   "metadata": {},
   "outputs": [],
   "source": []
  },
  {
   "cell_type": "code",
   "execution_count": null,
   "id": "ef632d31",
   "metadata": {},
   "outputs": [],
   "source": []
  },
  {
   "cell_type": "code",
   "execution_count": null,
   "id": "0de28f37",
   "metadata": {},
   "outputs": [],
   "source": []
  },
  {
   "cell_type": "code",
   "execution_count": null,
   "id": "fbe1a643",
   "metadata": {},
   "outputs": [],
   "source": []
  },
  {
   "cell_type": "code",
   "execution_count": null,
   "id": "a29a66d7",
   "metadata": {},
   "outputs": [],
   "source": []
  },
  {
   "cell_type": "code",
   "execution_count": null,
   "id": "8face118",
   "metadata": {},
   "outputs": [],
   "source": []
  },
  {
   "cell_type": "code",
   "execution_count": null,
   "id": "9132cb69",
   "metadata": {},
   "outputs": [],
   "source": []
  },
  {
   "cell_type": "code",
   "execution_count": null,
   "id": "2a497beb",
   "metadata": {},
   "outputs": [],
   "source": []
  },
  {
   "cell_type": "code",
   "execution_count": null,
   "id": "029458cc",
   "metadata": {},
   "outputs": [],
   "source": []
  },
  {
   "cell_type": "code",
   "execution_count": null,
   "id": "bd76e50d",
   "metadata": {},
   "outputs": [],
   "source": []
  },
  {
   "cell_type": "code",
   "execution_count": null,
   "id": "d629e104",
   "metadata": {},
   "outputs": [],
   "source": []
  },
  {
   "cell_type": "code",
   "execution_count": null,
   "id": "e4cab268",
   "metadata": {},
   "outputs": [],
   "source": []
  },
  {
   "cell_type": "code",
   "execution_count": null,
   "id": "976af545",
   "metadata": {},
   "outputs": [],
   "source": []
  },
  {
   "cell_type": "code",
   "execution_count": null,
   "id": "cfd5985c",
   "metadata": {},
   "outputs": [],
   "source": []
  },
  {
   "cell_type": "code",
   "execution_count": null,
   "id": "60026d35",
   "metadata": {},
   "outputs": [],
   "source": []
  },
  {
   "cell_type": "code",
   "execution_count": null,
   "id": "7c287f29",
   "metadata": {},
   "outputs": [],
   "source": []
  },
  {
   "cell_type": "code",
   "execution_count": null,
   "id": "04b48128",
   "metadata": {},
   "outputs": [],
   "source": []
  },
  {
   "cell_type": "code",
   "execution_count": null,
   "id": "e886dde2",
   "metadata": {},
   "outputs": [],
   "source": []
  },
  {
   "cell_type": "code",
   "execution_count": null,
   "id": "f77da958",
   "metadata": {},
   "outputs": [],
   "source": []
  },
  {
   "cell_type": "code",
   "execution_count": null,
   "id": "f9f8eb0f",
   "metadata": {},
   "outputs": [],
   "source": []
  },
  {
   "cell_type": "code",
   "execution_count": null,
   "id": "657dfe62",
   "metadata": {},
   "outputs": [],
   "source": []
  },
  {
   "cell_type": "code",
   "execution_count": null,
   "id": "8c679311",
   "metadata": {},
   "outputs": [],
   "source": []
  },
  {
   "cell_type": "code",
   "execution_count": null,
   "id": "ea460392",
   "metadata": {},
   "outputs": [],
   "source": []
  },
  {
   "cell_type": "code",
   "execution_count": null,
   "id": "ba991254",
   "metadata": {},
   "outputs": [],
   "source": []
  },
  {
   "cell_type": "code",
   "execution_count": null,
   "id": "c3243db7",
   "metadata": {},
   "outputs": [],
   "source": []
  },
  {
   "cell_type": "code",
   "execution_count": null,
   "id": "9ac50aeb",
   "metadata": {},
   "outputs": [],
   "source": []
  },
  {
   "cell_type": "code",
   "execution_count": null,
   "id": "55817a95",
   "metadata": {},
   "outputs": [],
   "source": []
  },
  {
   "cell_type": "code",
   "execution_count": null,
   "id": "2e74af89",
   "metadata": {},
   "outputs": [],
   "source": []
  },
  {
   "cell_type": "code",
   "execution_count": null,
   "id": "18fdb562",
   "metadata": {},
   "outputs": [],
   "source": []
  },
  {
   "cell_type": "code",
   "execution_count": null,
   "id": "647c5953",
   "metadata": {},
   "outputs": [],
   "source": []
  },
  {
   "cell_type": "code",
   "execution_count": null,
   "id": "582d036b",
   "metadata": {},
   "outputs": [],
   "source": []
  },
  {
   "cell_type": "code",
   "execution_count": null,
   "id": "5cbecac6",
   "metadata": {},
   "outputs": [],
   "source": []
  }
 ],
 "metadata": {
  "kernelspec": {
   "display_name": "Python 3 (ipykernel)",
   "language": "python",
   "name": "python3"
  },
  "language_info": {
   "codemirror_mode": {
    "name": "ipython",
    "version": 3
   },
   "file_extension": ".py",
   "mimetype": "text/x-python",
   "name": "python",
   "nbconvert_exporter": "python",
   "pygments_lexer": "ipython3",
   "version": "3.10.9"
  }
 },
 "nbformat": 4,
 "nbformat_minor": 5
}
